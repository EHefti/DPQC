{
 "cells": [
  {
   "cell_type": "markdown",
   "id": "6b681791",
   "metadata": {},
   "source": [
    "## 0. Packages and Dataloading"
   ]
  },
  {
   "cell_type": "code",
   "execution_count": 2,
   "id": "df1c5204-8fd1-4af1-8099-cdb44b14371b",
   "metadata": {},
   "outputs": [],
   "source": [
    "%load_ext autoreload\n",
    "%autoreload 2"
   ]
  },
  {
   "cell_type": "code",
   "execution_count": 10,
   "id": "fe926de3-d9ee-463f-9388-a9fffe288d50",
   "metadata": {},
   "outputs": [],
   "source": [
    "from IPython.display import Image, display, display, clear_output\n",
    "import ipywidgets as widgets\n",
    "from pathlib import Path\n",
    "from glob import glob\n",
    "import sys\n",
    "import os\n",
    "\n",
    "import matplotlib.pyplot as plt\n",
    "import numpy as np\n",
    "import pandas as pd\n",
    "from tqdm import tqdm\n",
    "from pprint import pprint\n",
    "import sklearn\n",
    "import h5py\n",
    "import spikeinterface.full as si\n",
    "import spikeinterface.extractors as se\n",
    "import spikeinterface.curation as sc\n",
    "import spikeinterface.widgets as sw\n",
    "\n",
    "\n",
    "\n",
    "import bombcell as bc\n",
    "\n",
    "import warnings\n",
    "warnings.filterwarnings(\"ignore\")\n",
    "\n",
    "\n",
    "# sys.path.append(\"/home/ehefti/Github/DPQC\")\n",
    "sys.path.append(\"C:/Users/elias/OneDrive - ETH Zurich/2025FS - Master Thesis/1 - Scripts/Github/DPQC\")\n",
    "import MaxTwo_Spikesorting.scripts.spike_sorting as ss\n",
    "import MaxTwo_Activity_Screening.screen_maxtwo_activity as sma"
   ]
  },
  {
   "cell_type": "markdown",
   "id": "e897eb87",
   "metadata": {},
   "source": [
    "## 1. Recording Overview"
   ]
  },
  {
   "cell_type": "code",
   "execution_count": 19,
   "id": "e1238d33-72ab-4452-a2a1-509e5853d635",
   "metadata": {},
   "outputs": [
    {
     "name": "stdout",
     "output_type": "stream",
     "text": [
      "Found 24 wells in D:/Master Thesis/Data/EI_iNeurons/241218/T002523/Network/data.raw.h5\n",
      "Analyzing 10 seconds from each well for a rough overview.\n"
     ]
    },
    {
     "data": {
      "application/vnd.jupyter.widget-view+json": {
       "model_id": "6cf05a9d4f0a4830b05fad66f2c8ed86",
       "version_major": 2,
       "version_minor": 0
      },
      "text/plain": [
       "Processing Wells:   0%|          | 0/24 [00:00<?, ?it/s]"
      ]
     },
     "metadata": {},
     "output_type": "display_data"
    },
    {
     "name": "stdout",
     "output_type": "stream",
     "text": [
      "**********\n",
      "Maxwell file format is based on HDF5.\n",
      "The internal compression requires a custom plugin!!!\n",
      "This is a big pain for the end user.\n",
      "You, as a end user, should ask Maxwell company to change this.\n",
      "Please visit this page and install the missing decompression libraries:\n",
      "https://share.mxwbio.com/d/4742248b2e674a85be97/\n",
      "Then, link the decompression library by setting the `HDF5_PLUGIN_PATH` to your\n",
      "installation location, e.g. via\n",
      "os.environ['HDF5_PLUGIN_PATH'] = '/path/to/custom/hdf5/plugin/'\n",
      "\n",
      "Alternatively, you can use the auto_install_maxwell_hdf5_compression_plugin() below\n",
      "function that do it automagically.\n",
      "\n",
      "**********\n",
      "  Error processing well well000: Can't synchronously read data (can't open directory). Skipping this well.\n",
      "**********\n",
      "Maxwell file format is based on HDF5.\n",
      "The internal compression requires a custom plugin!!!\n",
      "This is a big pain for the end user.\n",
      "You, as a end user, should ask Maxwell company to change this.\n",
      "Please visit this page and install the missing decompression libraries:\n",
      "https://share.mxwbio.com/d/4742248b2e674a85be97/\n",
      "Then, link the decompression library by setting the `HDF5_PLUGIN_PATH` to your\n",
      "installation location, e.g. via\n",
      "os.environ['HDF5_PLUGIN_PATH'] = '/path/to/custom/hdf5/plugin/'\n",
      "\n",
      "Alternatively, you can use the auto_install_maxwell_hdf5_compression_plugin() below\n",
      "function that do it automagically.\n",
      "\n",
      "**********\n",
      "  Error processing well well001: Can't synchronously read data (can't open directory). Skipping this well.\n",
      "**********\n",
      "Maxwell file format is based on HDF5.\n",
      "The internal compression requires a custom plugin!!!\n",
      "This is a big pain for the end user.\n",
      "You, as a end user, should ask Maxwell company to change this.\n",
      "Please visit this page and install the missing decompression libraries:\n",
      "https://share.mxwbio.com/d/4742248b2e674a85be97/\n",
      "Then, link the decompression library by setting the `HDF5_PLUGIN_PATH` to your\n",
      "installation location, e.g. via\n",
      "os.environ['HDF5_PLUGIN_PATH'] = '/path/to/custom/hdf5/plugin/'\n",
      "\n",
      "Alternatively, you can use the auto_install_maxwell_hdf5_compression_plugin() below\n",
      "function that do it automagically.\n",
      "\n",
      "**********\n",
      "  Error processing well well002: Can't synchronously read data (can't open directory). Skipping this well.\n",
      "**********\n",
      "Maxwell file format is based on HDF5.\n",
      "The internal compression requires a custom plugin!!!\n",
      "This is a big pain for the end user.\n",
      "You, as a end user, should ask Maxwell company to change this.\n",
      "Please visit this page and install the missing decompression libraries:\n",
      "https://share.mxwbio.com/d/4742248b2e674a85be97/\n",
      "Then, link the decompression library by setting the `HDF5_PLUGIN_PATH` to your\n",
      "installation location, e.g. via\n",
      "os.environ['HDF5_PLUGIN_PATH'] = '/path/to/custom/hdf5/plugin/'\n",
      "\n",
      "Alternatively, you can use the auto_install_maxwell_hdf5_compression_plugin() below\n",
      "function that do it automagically.\n",
      "\n",
      "**********\n",
      "  Error processing well well003: Can't synchronously read data (can't open directory). Skipping this well.\n",
      "**********\n",
      "Maxwell file format is based on HDF5.\n",
      "The internal compression requires a custom plugin!!!\n",
      "This is a big pain for the end user.\n",
      "You, as a end user, should ask Maxwell company to change this.\n",
      "Please visit this page and install the missing decompression libraries:\n",
      "https://share.mxwbio.com/d/4742248b2e674a85be97/\n",
      "Then, link the decompression library by setting the `HDF5_PLUGIN_PATH` to your\n",
      "installation location, e.g. via\n",
      "os.environ['HDF5_PLUGIN_PATH'] = '/path/to/custom/hdf5/plugin/'\n",
      "\n",
      "Alternatively, you can use the auto_install_maxwell_hdf5_compression_plugin() below\n",
      "function that do it automagically.\n",
      "\n",
      "**********\n",
      "  Error processing well well004: Can't synchronously read data (can't open directory). Skipping this well.\n",
      "**********\n",
      "Maxwell file format is based on HDF5.\n",
      "The internal compression requires a custom plugin!!!\n",
      "This is a big pain for the end user.\n",
      "You, as a end user, should ask Maxwell company to change this.\n",
      "Please visit this page and install the missing decompression libraries:\n",
      "https://share.mxwbio.com/d/4742248b2e674a85be97/\n",
      "Then, link the decompression library by setting the `HDF5_PLUGIN_PATH` to your\n",
      "installation location, e.g. via\n",
      "os.environ['HDF5_PLUGIN_PATH'] = '/path/to/custom/hdf5/plugin/'\n",
      "\n",
      "Alternatively, you can use the auto_install_maxwell_hdf5_compression_plugin() below\n",
      "function that do it automagically.\n",
      "\n",
      "**********\n",
      "  Error processing well well005: Can't synchronously read data (can't open directory). Skipping this well.\n",
      "**********\n",
      "Maxwell file format is based on HDF5.\n",
      "The internal compression requires a custom plugin!!!\n",
      "This is a big pain for the end user.\n",
      "You, as a end user, should ask Maxwell company to change this.\n",
      "Please visit this page and install the missing decompression libraries:\n",
      "https://share.mxwbio.com/d/4742248b2e674a85be97/\n",
      "Then, link the decompression library by setting the `HDF5_PLUGIN_PATH` to your\n",
      "installation location, e.g. via\n",
      "os.environ['HDF5_PLUGIN_PATH'] = '/path/to/custom/hdf5/plugin/'\n",
      "\n",
      "Alternatively, you can use the auto_install_maxwell_hdf5_compression_plugin() below\n",
      "function that do it automagically.\n",
      "\n",
      "**********\n",
      "  Error processing well well006: Can't synchronously read data (can't open directory). Skipping this well.\n",
      "**********\n",
      "Maxwell file format is based on HDF5.\n",
      "The internal compression requires a custom plugin!!!\n",
      "This is a big pain for the end user.\n",
      "You, as a end user, should ask Maxwell company to change this.\n",
      "Please visit this page and install the missing decompression libraries:\n",
      "https://share.mxwbio.com/d/4742248b2e674a85be97/\n",
      "Then, link the decompression library by setting the `HDF5_PLUGIN_PATH` to your\n",
      "installation location, e.g. via\n",
      "os.environ['HDF5_PLUGIN_PATH'] = '/path/to/custom/hdf5/plugin/'\n",
      "\n",
      "Alternatively, you can use the auto_install_maxwell_hdf5_compression_plugin() below\n",
      "function that do it automagically.\n",
      "\n",
      "**********\n",
      "  Error processing well well007: Can't synchronously read data (can't open directory). Skipping this well.\n",
      "**********\n",
      "Maxwell file format is based on HDF5.\n",
      "The internal compression requires a custom plugin!!!\n",
      "This is a big pain for the end user.\n",
      "You, as a end user, should ask Maxwell company to change this.\n",
      "Please visit this page and install the missing decompression libraries:\n",
      "https://share.mxwbio.com/d/4742248b2e674a85be97/\n",
      "Then, link the decompression library by setting the `HDF5_PLUGIN_PATH` to your\n",
      "installation location, e.g. via\n",
      "os.environ['HDF5_PLUGIN_PATH'] = '/path/to/custom/hdf5/plugin/'\n",
      "\n",
      "Alternatively, you can use the auto_install_maxwell_hdf5_compression_plugin() below\n",
      "function that do it automagically.\n",
      "\n",
      "**********\n",
      "  Error processing well well008: Can't synchronously read data (can't open directory). Skipping this well.\n",
      "**********\n",
      "Maxwell file format is based on HDF5.\n",
      "The internal compression requires a custom plugin!!!\n",
      "This is a big pain for the end user.\n",
      "You, as a end user, should ask Maxwell company to change this.\n",
      "Please visit this page and install the missing decompression libraries:\n",
      "https://share.mxwbio.com/d/4742248b2e674a85be97/\n",
      "Then, link the decompression library by setting the `HDF5_PLUGIN_PATH` to your\n",
      "installation location, e.g. via\n",
      "os.environ['HDF5_PLUGIN_PATH'] = '/path/to/custom/hdf5/plugin/'\n",
      "\n",
      "Alternatively, you can use the auto_install_maxwell_hdf5_compression_plugin() below\n",
      "function that do it automagically.\n",
      "\n",
      "**********\n",
      "  Error processing well well009: Can't synchronously read data (can't open directory). Skipping this well.\n",
      "**********\n",
      "Maxwell file format is based on HDF5.\n",
      "The internal compression requires a custom plugin!!!\n",
      "This is a big pain for the end user.\n",
      "You, as a end user, should ask Maxwell company to change this.\n",
      "Please visit this page and install the missing decompression libraries:\n",
      "https://share.mxwbio.com/d/4742248b2e674a85be97/\n",
      "Then, link the decompression library by setting the `HDF5_PLUGIN_PATH` to your\n",
      "installation location, e.g. via\n",
      "os.environ['HDF5_PLUGIN_PATH'] = '/path/to/custom/hdf5/plugin/'\n",
      "\n",
      "Alternatively, you can use the auto_install_maxwell_hdf5_compression_plugin() below\n",
      "function that do it automagically.\n",
      "\n",
      "**********\n",
      "  Error processing well well010: Can't synchronously read data (can't open directory). Skipping this well.\n",
      "**********\n",
      "Maxwell file format is based on HDF5.\n",
      "The internal compression requires a custom plugin!!!\n",
      "This is a big pain for the end user.\n",
      "You, as a end user, should ask Maxwell company to change this.\n",
      "Please visit this page and install the missing decompression libraries:\n",
      "https://share.mxwbio.com/d/4742248b2e674a85be97/\n",
      "Then, link the decompression library by setting the `HDF5_PLUGIN_PATH` to your\n",
      "installation location, e.g. via\n",
      "os.environ['HDF5_PLUGIN_PATH'] = '/path/to/custom/hdf5/plugin/'\n",
      "\n",
      "Alternatively, you can use the auto_install_maxwell_hdf5_compression_plugin() below\n",
      "function that do it automagically.\n",
      "\n",
      "**********\n",
      "  Error processing well well011: Can't synchronously read data (can't open directory). Skipping this well.\n",
      "**********\n",
      "Maxwell file format is based on HDF5.\n",
      "The internal compression requires a custom plugin!!!\n",
      "This is a big pain for the end user.\n",
      "You, as a end user, should ask Maxwell company to change this.\n",
      "Please visit this page and install the missing decompression libraries:\n",
      "https://share.mxwbio.com/d/4742248b2e674a85be97/\n",
      "Then, link the decompression library by setting the `HDF5_PLUGIN_PATH` to your\n",
      "installation location, e.g. via\n",
      "os.environ['HDF5_PLUGIN_PATH'] = '/path/to/custom/hdf5/plugin/'\n",
      "\n",
      "Alternatively, you can use the auto_install_maxwell_hdf5_compression_plugin() below\n",
      "function that do it automagically.\n",
      "\n",
      "**********\n",
      "  Error processing well well012: Can't synchronously read data (can't open directory). Skipping this well.\n",
      "**********\n",
      "Maxwell file format is based on HDF5.\n",
      "The internal compression requires a custom plugin!!!\n",
      "This is a big pain for the end user.\n",
      "You, as a end user, should ask Maxwell company to change this.\n",
      "Please visit this page and install the missing decompression libraries:\n",
      "https://share.mxwbio.com/d/4742248b2e674a85be97/\n",
      "Then, link the decompression library by setting the `HDF5_PLUGIN_PATH` to your\n",
      "installation location, e.g. via\n",
      "os.environ['HDF5_PLUGIN_PATH'] = '/path/to/custom/hdf5/plugin/'\n",
      "\n",
      "Alternatively, you can use the auto_install_maxwell_hdf5_compression_plugin() below\n",
      "function that do it automagically.\n",
      "\n",
      "**********\n",
      "  Error processing well well013: Can't synchronously read data (can't open directory). Skipping this well.\n",
      "**********\n",
      "Maxwell file format is based on HDF5.\n",
      "The internal compression requires a custom plugin!!!\n",
      "This is a big pain for the end user.\n",
      "You, as a end user, should ask Maxwell company to change this.\n",
      "Please visit this page and install the missing decompression libraries:\n",
      "https://share.mxwbio.com/d/4742248b2e674a85be97/\n",
      "Then, link the decompression library by setting the `HDF5_PLUGIN_PATH` to your\n",
      "installation location, e.g. via\n",
      "os.environ['HDF5_PLUGIN_PATH'] = '/path/to/custom/hdf5/plugin/'\n",
      "\n",
      "Alternatively, you can use the auto_install_maxwell_hdf5_compression_plugin() below\n",
      "function that do it automagically.\n",
      "\n",
      "**********\n",
      "  Error processing well well014: Can't synchronously read data (can't open directory). Skipping this well.\n",
      "**********\n",
      "Maxwell file format is based on HDF5.\n",
      "The internal compression requires a custom plugin!!!\n",
      "This is a big pain for the end user.\n",
      "You, as a end user, should ask Maxwell company to change this.\n",
      "Please visit this page and install the missing decompression libraries:\n",
      "https://share.mxwbio.com/d/4742248b2e674a85be97/\n",
      "Then, link the decompression library by setting the `HDF5_PLUGIN_PATH` to your\n",
      "installation location, e.g. via\n",
      "os.environ['HDF5_PLUGIN_PATH'] = '/path/to/custom/hdf5/plugin/'\n",
      "\n",
      "Alternatively, you can use the auto_install_maxwell_hdf5_compression_plugin() below\n",
      "function that do it automagically.\n",
      "\n",
      "**********\n",
      "  Error processing well well015: Can't synchronously read data (can't open directory). Skipping this well.\n",
      "**********\n",
      "Maxwell file format is based on HDF5.\n",
      "The internal compression requires a custom plugin!!!\n",
      "This is a big pain for the end user.\n",
      "You, as a end user, should ask Maxwell company to change this.\n",
      "Please visit this page and install the missing decompression libraries:\n",
      "https://share.mxwbio.com/d/4742248b2e674a85be97/\n",
      "Then, link the decompression library by setting the `HDF5_PLUGIN_PATH` to your\n",
      "installation location, e.g. via\n",
      "os.environ['HDF5_PLUGIN_PATH'] = '/path/to/custom/hdf5/plugin/'\n",
      "\n",
      "Alternatively, you can use the auto_install_maxwell_hdf5_compression_plugin() below\n",
      "function that do it automagically.\n",
      "\n",
      "**********\n",
      "  Error processing well well016: Can't synchronously read data (can't open directory). Skipping this well.\n",
      "**********\n",
      "Maxwell file format is based on HDF5.\n",
      "The internal compression requires a custom plugin!!!\n",
      "This is a big pain for the end user.\n",
      "You, as a end user, should ask Maxwell company to change this.\n",
      "Please visit this page and install the missing decompression libraries:\n",
      "https://share.mxwbio.com/d/4742248b2e674a85be97/\n",
      "Then, link the decompression library by setting the `HDF5_PLUGIN_PATH` to your\n",
      "installation location, e.g. via\n",
      "os.environ['HDF5_PLUGIN_PATH'] = '/path/to/custom/hdf5/plugin/'\n",
      "\n",
      "Alternatively, you can use the auto_install_maxwell_hdf5_compression_plugin() below\n",
      "function that do it automagically.\n",
      "\n",
      "**********\n",
      "  Error processing well well017: Can't synchronously read data (can't open directory). Skipping this well.\n",
      "**********\n",
      "Maxwell file format is based on HDF5.\n",
      "The internal compression requires a custom plugin!!!\n",
      "This is a big pain for the end user.\n",
      "You, as a end user, should ask Maxwell company to change this.\n",
      "Please visit this page and install the missing decompression libraries:\n",
      "https://share.mxwbio.com/d/4742248b2e674a85be97/\n",
      "Then, link the decompression library by setting the `HDF5_PLUGIN_PATH` to your\n",
      "installation location, e.g. via\n",
      "os.environ['HDF5_PLUGIN_PATH'] = '/path/to/custom/hdf5/plugin/'\n",
      "\n",
      "Alternatively, you can use the auto_install_maxwell_hdf5_compression_plugin() below\n",
      "function that do it automagically.\n",
      "\n",
      "**********\n",
      "  Error processing well well018: Can't synchronously read data (can't open directory). Skipping this well.\n",
      "**********\n",
      "Maxwell file format is based on HDF5.\n",
      "The internal compression requires a custom plugin!!!\n",
      "This is a big pain for the end user.\n",
      "You, as a end user, should ask Maxwell company to change this.\n",
      "Please visit this page and install the missing decompression libraries:\n",
      "https://share.mxwbio.com/d/4742248b2e674a85be97/\n",
      "Then, link the decompression library by setting the `HDF5_PLUGIN_PATH` to your\n",
      "installation location, e.g. via\n",
      "os.environ['HDF5_PLUGIN_PATH'] = '/path/to/custom/hdf5/plugin/'\n",
      "\n",
      "Alternatively, you can use the auto_install_maxwell_hdf5_compression_plugin() below\n",
      "function that do it automagically.\n",
      "\n",
      "**********\n",
      "  Error processing well well019: Can't synchronously read data (can't open directory). Skipping this well.\n",
      "**********\n",
      "Maxwell file format is based on HDF5.\n",
      "The internal compression requires a custom plugin!!!\n",
      "This is a big pain for the end user.\n",
      "You, as a end user, should ask Maxwell company to change this.\n",
      "Please visit this page and install the missing decompression libraries:\n",
      "https://share.mxwbio.com/d/4742248b2e674a85be97/\n",
      "Then, link the decompression library by setting the `HDF5_PLUGIN_PATH` to your\n",
      "installation location, e.g. via\n",
      "os.environ['HDF5_PLUGIN_PATH'] = '/path/to/custom/hdf5/plugin/'\n",
      "\n",
      "Alternatively, you can use the auto_install_maxwell_hdf5_compression_plugin() below\n",
      "function that do it automagically.\n",
      "\n",
      "**********\n",
      "  Error processing well well020: Can't synchronously read data (can't open directory). Skipping this well.\n",
      "**********\n",
      "Maxwell file format is based on HDF5.\n",
      "The internal compression requires a custom plugin!!!\n",
      "This is a big pain for the end user.\n",
      "You, as a end user, should ask Maxwell company to change this.\n",
      "Please visit this page and install the missing decompression libraries:\n",
      "https://share.mxwbio.com/d/4742248b2e674a85be97/\n",
      "Then, link the decompression library by setting the `HDF5_PLUGIN_PATH` to your\n",
      "installation location, e.g. via\n",
      "os.environ['HDF5_PLUGIN_PATH'] = '/path/to/custom/hdf5/plugin/'\n",
      "\n",
      "Alternatively, you can use the auto_install_maxwell_hdf5_compression_plugin() below\n",
      "function that do it automagically.\n",
      "\n",
      "**********\n",
      "  Error processing well well021: Can't synchronously read data (can't open directory). Skipping this well.\n",
      "**********\n",
      "Maxwell file format is based on HDF5.\n",
      "The internal compression requires a custom plugin!!!\n",
      "This is a big pain for the end user.\n",
      "You, as a end user, should ask Maxwell company to change this.\n",
      "Please visit this page and install the missing decompression libraries:\n",
      "https://share.mxwbio.com/d/4742248b2e674a85be97/\n",
      "Then, link the decompression library by setting the `HDF5_PLUGIN_PATH` to your\n",
      "installation location, e.g. via\n",
      "os.environ['HDF5_PLUGIN_PATH'] = '/path/to/custom/hdf5/plugin/'\n",
      "\n",
      "Alternatively, you can use the auto_install_maxwell_hdf5_compression_plugin() below\n",
      "function that do it automagically.\n",
      "\n",
      "**********\n",
      "  Error processing well well022: Can't synchronously read data (can't open directory). Skipping this well.\n",
      "**********\n",
      "Maxwell file format is based on HDF5.\n",
      "The internal compression requires a custom plugin!!!\n",
      "This is a big pain for the end user.\n",
      "You, as a end user, should ask Maxwell company to change this.\n",
      "Please visit this page and install the missing decompression libraries:\n",
      "https://share.mxwbio.com/d/4742248b2e674a85be97/\n",
      "Then, link the decompression library by setting the `HDF5_PLUGIN_PATH` to your\n",
      "installation location, e.g. via\n",
      "os.environ['HDF5_PLUGIN_PATH'] = '/path/to/custom/hdf5/plugin/'\n",
      "\n",
      "Alternatively, you can use the auto_install_maxwell_hdf5_compression_plugin() below\n",
      "function that do it automagically.\n",
      "\n",
      "**********\n",
      "  Error processing well well023: Can't synchronously read data (can't open directory). Skipping this well.\n"
     ]
    },
    {
     "data": {
      "image/png": "[encoded data removed]",
      "text/plain": [
       "<Figure size 1800x700 with 2 Axes>"
      ]
     },
     "metadata": {},
     "output_type": "display_data"
    }
   ],
   "source": [
    "#rec_path = '/net/bs-filesvr02/export/group/hierlemann/recordings/Maxtwo/phornauer/241218/EI_iNeurons/T002523/Network/000020/data.raw.h5'\n",
    "rec_path = \"D:/Master Thesis/Data/EI_iNeurons/241218/T002523/Network/data.raw.h5\"\n",
    "df_summary, rate_dist, amp_dist = sma.screen_maxtwo_activity(rec_path, segment_duration_s=10,\n",
    "                                                             rate_lower_threshold = 0.5,\n",
    "                                                             rate_upper_threshold = 20,\n",
    "                                                             amp_lower_threshold = 30,\n",
    "                                                             amp_upper_threshold = 80)\n",
    "\n",
    "\n",
    "\n",
    "#log scale"
   ]
  },
  {
   "cell_type": "markdown",
   "id": "59f84ba9",
   "metadata": {},
   "source": [
    "## 2. Spikesorting\n",
    "_This part of the pipeline is computationally heavy. It is advisable to run this on a GPU or Cluster._"
   ]
  },
  {
   "cell_type": "code",
   "execution_count": 4,
   "id": "ec8e006b-1a9f-4c5e-83b3-040f86f37f02",
   "metadata": {},
   "outputs": [
    {
     "name": "stdout",
     "output_type": "stream",
     "text": [
      "Setting KILOSORT2_5_PATH environment variable for subprocess calls to: C:\\Users\\elias\\OneDrive - ETH Zurich\\2025FS - Master Thesis\\1 - Scripts\\Github\\Kilosort\n"
     ]
    }
   ],
   "source": [
    "# Choose sorter and set parameters\n",
    "sorter = 'kilosort2_5'\n",
    "si.Kilosort2_5Sorter.set_kilosort2_5_path('C:/Users/elias/OneDrive - ETH Zurich/2025FS - Master Thesis/1 - Scripts/Github/Kilosort')\n",
    "sorter_params = si.get_default_sorter_params(si.Kilosort2_5Sorter)\n",
    "\n",
    "sorter_params['n_jobs'] = -1\n",
    "sorter_params['detect_threshold'] = 5.5 #6 als Standardwert\n",
    "sorter_params['minFR'] = 0.01 #Lower value -> less units that get automatically deleted\n",
    "sorter_params['minfr_goodchannels'] = 0.01\n",
    "sorter_params['keep_good_only'] = False\n",
    "sorter_params['do_correction'] = False\n",
    "sorter_params['NT'] = 64*1024 + 64 #Batch size -> Wieviel wird auf einmal angeschaut\n",
    "\n",
    "\n",
    "# Set your paths\n",
    "# Linux: '/net/bs-filesvr02/export/group/hierlemann/recordings/Maxtwo/.../data.raw.h5' \n",
    "# Windows: 'S:/group/hierlemann02/recordings/Maxtwo/.../data.raw.h5'\n",
    "\"\"\"\n",
    "rec_path = '/net/bs-filesvr02/export/group/hierlemann/recordings/Maxtwo/phornauer/241218/EI_iNeurons/T002523/Network/000020/data.raw.h5'\n",
    "save_root = '/net/bs-filesvr02/export/group/hierlemann/recordings/Maxtwo/phornauer/EI_iNeurons/241218/T002523/Network/'\n",
    "\"\"\"\n",
    "rec_path = \"D:/Master Thesis/Data/EI_iNeurons/241218/T002523/Network/data.raw.h5\"\n",
    "save_root = \"D:/Master Thesis/Data/EI_iNeurons/241218/T002523/Network/\"\n",
    "\n",
    "h5 = h5py.File(rec_path)\n",
    "stream_ids = list(h5['wells'].keys())\n",
    "stream_ids = stream_ids[0:24]"
   ]
  },
  {
   "cell_type": "code",
   "execution_count": null,
   "id": "437a9743-8a70-4b77-86b2-4dbdc48c01fc",
   "metadata": {},
   "outputs": [],
   "source": [
    "for stream_id in tqdm(stream_ids):\n",
    "    h5 = h5py.File(rec_path)\n",
    "    rec_name = list(h5['wells'][stream_id].keys())[0]\n",
    "    rec = si.MaxwellRecordingExtractor(rec_path, stream_id=stream_id, rec_name=rec_name)\n",
    "    ss.clean_sorting(rec, save_root, stream_id=stream_id, sorter=sorter, sorter_params=sorter_params, clear_files=True)"
   ]
  },
  {
   "cell_type": "markdown",
   "id": "55a3d9c7",
   "metadata": {},
   "source": [
    "## 3. Qualitycontrol (Bombcell & SI-Model)"
   ]
  },
  {
   "cell_type": "markdown",
   "id": "c5098bf7",
   "metadata": {},
   "source": [
    "### 3.1 Bombcell"
   ]
  },
  {
   "cell_type": "code",
   "execution_count": 13,
   "id": "8cc37975",
   "metadata": {},
   "outputs": [
    {
     "name": "stdout",
     "output_type": "stream",
     "text": [
      "Using kilosort directory: D:/Master Thesis/Data/EI_iNeurons/241218/T002523/Network/well000/sorter_output/\n",
      "{'computeDistanceMetrics': False,\n",
      " 'computeDrift': False,\n",
      " 'computeSpatialDecay': True,\n",
      " 'computeTimeChunks': False,\n",
      " 'decompress_data': False,\n",
      " 'deltaTimeChunk': 360,\n",
      " 'detrendWaveform': True,\n",
      " 'driftBinSize': 60,\n",
      " 'duplicateSpikeWindow_s': 1e-05,\n",
      " 'ephysKilosortPath': 'D:/Master '\n",
      "                      'Thesis/Data/EI_iNeurons/241218/T002523/Network/well000/sorter_output/',\n",
      " 'ephys_meta_file': None,\n",
      " 'ephys_sample_rate': 10000,\n",
      " 'extractRaw': True,\n",
      " 'gain_to_uV': None,\n",
      " 'hillOrLlobetMethod': True,\n",
      " 'isoDmin': 20,\n",
      " 'keep_only_somatic': True,\n",
      " 'lratioMax': 0.3,\n",
      " 'maxDrift': 100,\n",
      " 'maxMainPeakToTroughRatio_nonSomatic': 0.8,\n",
      " 'maxNPeaks': 2,\n",
      " 'maxNTroughs': 1,\n",
      " 'maxPeak1ToPeak2Ratio_nonSomatic': 3,\n",
      " 'maxPercSpikesMissing': 20,\n",
      " 'maxRPVviolations': 0.1,\n",
      " 'maxScndPeakToTroughRatio_noise': 0.8,\n",
      " 'maxSpatialDecaySlopeExp': 0.1,\n",
      " 'maxWvBaselineFraction': 0.3,\n",
      " 'maxWvDuration': 1150,\n",
      " 'minAmplitude': 40,\n",
      " 'minNumSpikes': 300,\n",
      " 'minPresenceRatio': 0.7,\n",
      " 'minSNR': 5,\n",
      " 'minSpatialDecaySlope': -0.008,\n",
      " 'minSpatialDecaySlopeExp': 0.01,\n",
      " 'minThreshDetectPeaksTroughs': 0.2,\n",
      " 'minTroughToPeak2Ratio_nonSomatic': 5,\n",
      " 'minWidthFirstPeak_nonSomatic': 4,\n",
      " 'minWidthMainTrough_nonSomatic': 5,\n",
      " 'minWvDuration': 100,\n",
      " 'nChannels': 1002,\n",
      " 'nChannelsIsoDist': 4,\n",
      " 'nRawSpikesToExtract': 100,\n",
      " 'nSyncChannels': 1,\n",
      " 'normalizeSpDecay': True,\n",
      " 'plotDetails': False,\n",
      " 'plotGlobal': True,\n",
      " 'presenceRatioBinSize': 60,\n",
      " 'probeType': 1,\n",
      " 'raw_data_file': WindowsPath('D:/Master Thesis/Data/EI_iNeurons/241218/T002523/Network/well000/sorter_output/recording.dat'),\n",
      " 'recomputeDuplicateSpikes': False,\n",
      " 'reextractRaw': False,\n",
      " 'removeDuplicateSpikes': False,\n",
      " 'saveAsTSV': True,\n",
      " 'saveSpikes_withoutDuplicates': True,\n",
      " 'spDecayLinFit': False,\n",
      " 'spike_width': 82,\n",
      " 'splitGoodAndMua_NonSomatic': False,\n",
      " 'ss_min': nan,\n",
      " 'tauC': 0.0001,\n",
      " 'tauR_valuesMax': 0.002,\n",
      " 'tauR_valuesMin': 0.002,\n",
      " 'tauR_valuesStep': 0.0005,\n",
      " 'unit_type_for_phy': True,\n",
      " 'verbose': True,\n",
      " 'waveformBaselineNoiseWindow': 20,\n",
      " 'waveform_baseline_window_start': 21,\n",
      " 'waveform_baseline_window_stop': 31}\n",
      "🚀 Starting BombCell quality metrics pipeline...\n",
      "📁 Processing data from: D:/Master Thesis/Data/EI_iNeurons/241218/T002523/Network/well000/sorter_output/\n",
      "Results will be saved to: D:\\Master Thesis\\Data\\EI_iNeurons\\241218\\T002523\\Network\\well000\\sorter_output\\bc_output_test\n",
      "\n",
      "Loading ephys data...\n",
      "Loaded ephys data: 360 units, 356,640 spikes\n",
      "\n",
      "🔍 Extracting raw waveforms...\n",
      "Warning: No meta file found. Using default parameters...\n"
     ]
    },
    {
     "ename": "FileNotFoundError",
     "evalue": "[WinError 2] The system cannot find the file specified: 'D:\\\\Master Thesis\\\\Data\\\\EI_iNeurons\\\\241218\\\\T002523\\\\Network\\\\well000\\\\sorter_output\\\\recording.dat'",
     "output_type": "error",
     "traceback": [
      "\u001b[1;31m---------------------------------------------------------------------------\u001b[0m",
      "\u001b[1;31mFileNotFoundError\u001b[0m                         Traceback (most recent call last)",
      "Cell \u001b[1;32mIn[13], line 27\u001b[0m\n\u001b[0;32m     23\u001b[0m param[\u001b[38;5;124m'\u001b[39m\u001b[38;5;124mephysKilosortPath\u001b[39m\u001b[38;5;124m'\u001b[39m]\n\u001b[0;32m     25\u001b[0m pprint(param)\n\u001b[1;32m---> 27\u001b[0m (quality_metrics, param, unit_type, unit_type_string) \u001b[38;5;241m=\u001b[39m \u001b[43mbc\u001b[49m\u001b[38;5;241;43m.\u001b[39;49m\u001b[43mrun_bombcell\u001b[49m\u001b[43m(\u001b[49m\u001b[43mks_dir\u001b[49m\u001b[43m,\u001b[49m\u001b[43m \u001b[49m\u001b[43msave_path\u001b[49m\u001b[43m,\u001b[49m\u001b[43m \u001b[49m\u001b[43mparam\u001b[49m\u001b[43m)\u001b[49m\n",
      "File \u001b[1;32mc:\\Users\\elias\\anaconda3\\envs\\dpqc\\lib\\site-packages\\bombcell\\helper_functions.py:1092\u001b[0m, in \u001b[0;36mrun_bombcell\u001b[1;34m(ks_dir, save_path, param)\u001b[0m\n\u001b[0;32m   1085\u001b[0m     \u001b[38;5;28;01mif\u001b[39;00m param\u001b[38;5;241m.\u001b[39mget(\u001b[38;5;124m\"\u001b[39m\u001b[38;5;124mverbose\u001b[39m\u001b[38;5;124m\"\u001b[39m, \u001b[38;5;28;01mFalse\u001b[39;00m):\n\u001b[0;32m   1086\u001b[0m         \u001b[38;5;28mprint\u001b[39m(\u001b[38;5;124m\"\u001b[39m\u001b[38;5;130;01m\\n\u001b[39;00m\u001b[38;5;124m🔍 Extracting raw waveforms...\u001b[39m\u001b[38;5;124m\"\u001b[39m)\n\u001b[0;32m   1087\u001b[0m     (\n\u001b[0;32m   1088\u001b[0m     raw_waveforms_full,\n\u001b[0;32m   1089\u001b[0m     raw_waveforms_peak_channel,\n\u001b[0;32m   1090\u001b[0m     signal_to_noise_ratio,\n\u001b[0;32m   1091\u001b[0m     raw_waveforms_id_match,\n\u001b[1;32m-> 1092\u001b[0m     ) \u001b[38;5;241m=\u001b[39m \u001b[43mextract_raw_waveforms\u001b[49m\u001b[43m(\u001b[49m\n\u001b[0;32m   1093\u001b[0m \u001b[43m        \u001b[49m\u001b[43mparam\u001b[49m\u001b[43m,\u001b[49m\n\u001b[0;32m   1094\u001b[0m \u001b[43m        \u001b[49m\u001b[43mspike_clusters\u001b[49m\u001b[43m,\u001b[49m\n\u001b[0;32m   1095\u001b[0m \u001b[43m        \u001b[49m\u001b[43mspike_times_samples\u001b[49m\u001b[43m,\u001b[49m\n\u001b[0;32m   1096\u001b[0m \u001b[43m        \u001b[49m\u001b[43mparam\u001b[49m\u001b[43m[\u001b[49m\u001b[38;5;124;43m\"\u001b[39;49m\u001b[38;5;124;43mreextractRaw\u001b[39;49m\u001b[38;5;124;43m\"\u001b[39;49m\u001b[43m]\u001b[49m\u001b[43m,\u001b[49m\n\u001b[0;32m   1097\u001b[0m \u001b[43m        \u001b[49m\u001b[43msave_path\u001b[49m\u001b[43m,\u001b[49m\n\u001b[0;32m   1098\u001b[0m \u001b[43m    \u001b[49m\u001b[43m)\u001b[49m\n\u001b[0;32m   1099\u001b[0m \u001b[38;5;28;01melse\u001b[39;00m:\n\u001b[0;32m   1100\u001b[0m     raw_waveforms_full \u001b[38;5;241m=\u001b[39m \u001b[38;5;28;01mNone\u001b[39;00m\n",
      "File \u001b[1;32mc:\\Users\\elias\\anaconda3\\envs\\dpqc\\lib\\site-packages\\bombcell\\extract_raw_waveforms.py:360\u001b[0m, in \u001b[0;36mextract_raw_waveforms\u001b[1;34m(param, spike_clusters, spike_times, re_extract_waveforms, save_path)\u001b[0m\n\u001b[0;32m    358\u001b[0m \u001b[38;5;66;03m# Get file size directly from the raw data file\u001b[39;00m\n\u001b[0;32m    359\u001b[0m \u001b[38;5;28;01mimport\u001b[39;00m\u001b[38;5;250m \u001b[39m\u001b[38;5;21;01mos\u001b[39;00m\n\u001b[1;32m--> 360\u001b[0m file_size_bytes \u001b[38;5;241m=\u001b[39m \u001b[43mos\u001b[49m\u001b[38;5;241;43m.\u001b[39;49m\u001b[43mpath\u001b[49m\u001b[38;5;241;43m.\u001b[39;49m\u001b[43mgetsize\u001b[49m\u001b[43m(\u001b[49m\u001b[43mraw_data_file\u001b[49m\u001b[43m)\u001b[49m\n\u001b[0;32m    361\u001b[0m n_elements \u001b[38;5;241m=\u001b[39m file_size_bytes \u001b[38;5;241m/\u001b[39m \u001b[38;5;241m2\u001b[39m  \u001b[38;5;66;03m# int16 so 2 bytes per data point\u001b[39;00m\n\u001b[0;32m    363\u001b[0m \u001b[38;5;66;03m# When no metafile, nChannels already includes sync channels\u001b[39;00m\n",
      "File \u001b[1;32mc:\\Users\\elias\\anaconda3\\envs\\dpqc\\lib\\genericpath.py:50\u001b[0m, in \u001b[0;36mgetsize\u001b[1;34m(filename)\u001b[0m\n\u001b[0;32m     48\u001b[0m \u001b[38;5;28;01mdef\u001b[39;00m\u001b[38;5;250m \u001b[39m\u001b[38;5;21mgetsize\u001b[39m(filename):\n\u001b[0;32m     49\u001b[0m \u001b[38;5;250m    \u001b[39m\u001b[38;5;124;03m\"\"\"Return the size of a file, reported by os.stat().\"\"\"\u001b[39;00m\n\u001b[1;32m---> 50\u001b[0m     \u001b[38;5;28;01mreturn\u001b[39;00m \u001b[43mos\u001b[49m\u001b[38;5;241;43m.\u001b[39;49m\u001b[43mstat\u001b[49m\u001b[43m(\u001b[49m\u001b[43mfilename\u001b[49m\u001b[43m)\u001b[49m\u001b[38;5;241m.\u001b[39mst_size\n",
      "\u001b[1;31mFileNotFoundError\u001b[0m: [WinError 2] The system cannot find the file specified: 'D:\\\\Master Thesis\\\\Data\\\\EI_iNeurons\\\\241218\\\\T002523\\\\Network\\\\well000\\\\sorter_output\\\\recording.dat'"
     ]
    }
   ],
   "source": [
    "# Replace with your kilosort directory\n",
    "well_id = 'well010'\n",
    "ks_dir = 'D:/Master Thesis/Data/EI_iNeurons/241218/T002523/Network/well000/sorter_output/' #Path(save_root) / well_id / 'sorter_output'\n",
    "\n",
    "# Set bombcell's output directory\n",
    "save_path = Path(ks_dir) / \"bc_output_test\"\n",
    "if not save_path.exists():\n",
    "    save_path.mkdir(parents=True, exist_ok=True)\n",
    "\n",
    "print(f\"Using kilosort directory: {ks_dir}\")\n",
    "\n",
    "param = bc.get_default_parameters(ks_dir, kilosort_version=2)\n",
    "\n",
    "# Modify some parameters\n",
    "param['ephys_sample_rate'] = 10000  # Sample rate in Hz\n",
    "\n",
    "h5 = h5py.File(rec_path)\n",
    "rec_name = list(h5['wells'][well_id].keys())[0]\n",
    "rec = si.MaxwellRecordingExtractor(rec_path, stream_id=well_id, rec_name=rec_name)\n",
    "\n",
    "param['nChannels'] = rec.get_num_channels()\n",
    "param['raw_data_file'] = Path(ks_dir) / \"recording.dat\"\n",
    "param['ephysKilosortPath']\n",
    "\n",
    "pprint(param)\n",
    "\n",
    "(quality_metrics, param, unit_type, unit_type_string) = bc.run_bombcell(ks_dir, save_path, param)"
   ]
  },
  {
   "cell_type": "markdown",
   "id": "c0a006b2",
   "metadata": {},
   "source": [
    "See the metrics and the classification"
   ]
  },
  {
   "cell_type": "code",
   "execution_count": null,
   "id": "236cde51",
   "metadata": {},
   "outputs": [],
   "source": [
    "quality_metrics_table = pd.DataFrame(quality_metrics)\n",
    "quality_metrics_table.insert(0, 'Bombcell_unit_type', unit_type_string)\n",
    "quality_metrics_table"
   ]
  },
  {
   "cell_type": "markdown",
   "id": "998fed00",
   "metadata": {},
   "source": [
    "Take a look at your units in a GUI. Potentially adjust thresholds or change the classification:"
   ]
  },
  {
   "cell_type": "code",
   "execution_count": null,
   "id": "9b8bd439",
   "metadata": {},
   "outputs": [],
   "source": [
    "gui = bc.unit_quality_gui(\n",
    "    ks_dir=ks_dir,\n",
    "    quality_metrics=quality_metrics,\n",
    "    unit_types=unit_type,\n",
    "    param=param,\n",
    "    save_path=save_path,\n",
    ")"
   ]
  },
  {
   "cell_type": "markdown",
   "id": "1fcf5dfc",
   "metadata": {},
   "source": [
    "#### Bombcell Philipp"
   ]
  },
  {
   "cell_type": "code",
   "execution_count": 43,
   "id": "387589f7",
   "metadata": {},
   "outputs": [
    {
     "name": "stdout",
     "output_type": "stream",
     "text": [
      "Found 24 sortings\n"
     ]
    },
    {
     "ename": "ValueError",
     "evalue": "All-NaN slice encountered",
     "output_type": "error",
     "traceback": [
      "\u001b[1;31m---------------------------------------------------------------------------\u001b[0m",
      "\u001b[1;31mValueError\u001b[0m                                Traceback (most recent call last)",
      "Cell \u001b[1;32mIn[43], line 65\u001b[0m\n\u001b[0;32m     52\u001b[0m             param[\u001b[38;5;124m'\u001b[39m\u001b[38;5;124mminNumSpikes\u001b[39m\u001b[38;5;124m'\u001b[39m] \u001b[38;5;241m=\u001b[39m \u001b[38;5;241m0\u001b[39m\n\u001b[0;32m     54\u001b[0m         param[\u001b[38;5;124m'\u001b[39m\u001b[38;5;124mnChannels\u001b[39m\u001b[38;5;124m'\u001b[39m] \u001b[38;5;241m=\u001b[39m channelPositions\u001b[38;5;241m.\u001b[39mshape[\u001b[38;5;241m0\u001b[39m] \u001b[38;5;28;01mif\u001b[39;00m channelPositions \u001b[38;5;129;01mis\u001b[39;00m \u001b[38;5;129;01mnot\u001b[39;00m \u001b[38;5;28;01mNone\u001b[39;00m \u001b[38;5;28;01melse\u001b[39;00m \u001b[38;5;241m0\u001b[39m\n\u001b[0;32m     60\u001b[0m         (\n\u001b[0;32m     61\u001b[0m             qMetrics,\n\u001b[0;32m     62\u001b[0m             param,\n\u001b[0;32m     63\u001b[0m             unitType,\n\u001b[0;32m     64\u001b[0m             unitTypeString,\n\u001b[1;32m---> 65\u001b[0m         ) \u001b[38;5;241m=\u001b[39m \u001b[43mbc\u001b[49m\u001b[38;5;241;43m.\u001b[39;49m\u001b[43mrun_bombcell\u001b[49m\u001b[43m(\u001b[49m\n\u001b[0;32m     66\u001b[0m \u001b[43m            \u001b[49m\u001b[43mephysKilosortPath\u001b[49m\u001b[43m,\u001b[49m\u001b[43m \u001b[49m\u001b[43msavePath\u001b[49m\u001b[43m,\u001b[49m\u001b[43m \u001b[49m\u001b[43mparam\u001b[49m\n\u001b[0;32m     67\u001b[0m \u001b[43m        \u001b[49m\u001b[43m)\u001b[49m\n\u001b[0;32m     70\u001b[0m \u001b[38;5;250m        \u001b[39m\u001b[38;5;124;03m\"\"\"\u001b[39;00m\n\u001b[0;32m     71\u001b[0m \u001b[38;5;124;03m        qMetric, runtimes = bc.get_all_quality_metrics(param=param, \u001b[39;00m\n\u001b[0;32m     72\u001b[0m \u001b[38;5;124;03m                                                       unique_templates=None,\u001b[39;00m\n\u001b[1;32m   (...)\u001b[0m\n\u001b[0;32m     83\u001b[0m \u001b[38;5;124;03m        unitType, unitTypeString = bc.get_quality_unit_type(param, qMetric)\u001b[39;00m\n\u001b[0;32m     84\u001b[0m \u001b[38;5;124;03m        \"\"\"\u001b[39;00m\n\u001b[0;32m     87\u001b[0m bc_path_list \u001b[38;5;241m=\u001b[39m [os\u001b[38;5;241m.\u001b[39mpath\u001b[38;5;241m.\u001b[39mjoin(sp, \u001b[38;5;124m\"\u001b[39m\u001b[38;5;124mbc_output\u001b[39m\u001b[38;5;124m\"\u001b[39m) \u001b[38;5;28;01mfor\u001b[39;00m sp \u001b[38;5;129;01min\u001b[39;00m sorting_path_list]\n",
      "File \u001b[1;32mc:\\Users\\elias\\anaconda3\\envs\\dpqc\\lib\\site-packages\\bombcell\\helper_functions.py:1107\u001b[0m, in \u001b[0;36mrun_bombcell\u001b[1;34m(ks_dir, save_path, param)\u001b[0m\n\u001b[0;32m   1104\u001b[0m     param[\u001b[38;5;124m\"\u001b[39m\u001b[38;5;124mextractRaw\u001b[39m\u001b[38;5;124m\"\u001b[39m] \u001b[38;5;241m=\u001b[39m \u001b[38;5;28;01mFalse\u001b[39;00m  \u001b[38;5;66;03m# No waveforms to extract!\u001b[39;00m\n\u001b[0;32m   1106\u001b[0m \u001b[38;5;66;03m# pre-load peak channels\u001b[39;00m\n\u001b[1;32m-> 1107\u001b[0m maxChannels \u001b[38;5;241m=\u001b[39m \u001b[43mqm\u001b[49m\u001b[38;5;241;43m.\u001b[39;49m\u001b[43mget_waveform_peak_channel\u001b[49m\u001b[43m(\u001b[49m\u001b[43mtemplate_waveforms\u001b[49m\u001b[43m)\u001b[49m\n\u001b[0;32m   1109\u001b[0m \u001b[38;5;66;03m# Remove duplicate spikes\u001b[39;00m\n\u001b[0;32m   1110\u001b[0m \u001b[38;5;28;01mif\u001b[39;00m param[\u001b[38;5;124m\"\u001b[39m\u001b[38;5;124mremoveDuplicateSpikes\u001b[39m\u001b[38;5;124m\"\u001b[39m]:\n",
      "File \u001b[1;32mc:\\Users\\elias\\anaconda3\\envs\\dpqc\\lib\\site-packages\\bombcell\\quality_metrics.py:31\u001b[0m, in \u001b[0;36mget_waveform_peak_channel\u001b[1;34m(template_waveforms)\u001b[0m\n\u001b[0;32m     29\u001b[0m max_value \u001b[38;5;241m=\u001b[39m np\u001b[38;5;241m.\u001b[39mmax(template_waveforms, axis\u001b[38;5;241m=\u001b[39m\u001b[38;5;241m1\u001b[39m)\n\u001b[0;32m     30\u001b[0m min_value \u001b[38;5;241m=\u001b[39m np\u001b[38;5;241m.\u001b[39mmin(template_waveforms, axis\u001b[38;5;241m=\u001b[39m\u001b[38;5;241m1\u001b[39m)\n\u001b[1;32m---> 31\u001b[0m maxChannels \u001b[38;5;241m=\u001b[39m \u001b[43mnp\u001b[49m\u001b[38;5;241;43m.\u001b[39;49m\u001b[43mnanargmax\u001b[49m\u001b[43m(\u001b[49m\u001b[43mmax_value\u001b[49m\u001b[43m \u001b[49m\u001b[38;5;241;43m-\u001b[39;49m\u001b[43m \u001b[49m\u001b[43mmin_value\u001b[49m\u001b[43m,\u001b[49m\u001b[43m \u001b[49m\u001b[43maxis\u001b[49m\u001b[38;5;241;43m=\u001b[39;49m\u001b[38;5;241;43m1\u001b[39;49m\u001b[43m)\u001b[49m\n\u001b[0;32m     33\u001b[0m \u001b[38;5;28;01mreturn\u001b[39;00m maxChannels\n",
      "File \u001b[1;32mc:\\Users\\elias\\anaconda3\\envs\\dpqc\\lib\\site-packages\\numpy\\lib\\_nanfunctions_impl.py:625\u001b[0m, in \u001b[0;36mnanargmax\u001b[1;34m(a, axis, out, keepdims)\u001b[0m\n\u001b[0;32m    623\u001b[0m     mask \u001b[38;5;241m=\u001b[39m np\u001b[38;5;241m.\u001b[39mall(mask, axis\u001b[38;5;241m=\u001b[39maxis)\n\u001b[0;32m    624\u001b[0m     \u001b[38;5;28;01mif\u001b[39;00m np\u001b[38;5;241m.\u001b[39many(mask):\n\u001b[1;32m--> 625\u001b[0m         \u001b[38;5;28;01mraise\u001b[39;00m \u001b[38;5;167;01mValueError\u001b[39;00m(\u001b[38;5;124m\"\u001b[39m\u001b[38;5;124mAll-NaN slice encountered\u001b[39m\u001b[38;5;124m\"\u001b[39m)\n\u001b[0;32m    626\u001b[0m res \u001b[38;5;241m=\u001b[39m np\u001b[38;5;241m.\u001b[39margmax(a, axis\u001b[38;5;241m=\u001b[39maxis, out\u001b[38;5;241m=\u001b[39mout, keepdims\u001b[38;5;241m=\u001b[39mkeepdims)\n\u001b[0;32m    627\u001b[0m \u001b[38;5;28;01mreturn\u001b[39;00m res\n",
      "\u001b[1;31mValueError\u001b[0m: All-NaN slice encountered"
     ]
    }
   ],
   "source": [
    "from mxw_bombcell.generate_sorting_path_list import generate_sorting_path_list\n",
    "from mxw_bombcell.infer_sampling_rate import infer_sampling_rate\n",
    "from mxw_bombcell.bombcell_to_phy import bombcell_to_phy\n",
    "\n",
    "\n",
    "# Suppress all warnings\n",
    "warnings.filterwarnings('ignore')\n",
    "\n",
    "qc_root_path = 'D:/Master Thesis/Data/EI_iNeurons'\n",
    "path_logic = ['24*', 'T002523', 'Network', 'well*', 'sorter_output']\n",
    "\n",
    "sorting_path_list = generate_sorting_path_list(qc_root_path, path_logic)\n",
    "print(f\"Found {len(sorting_path_list)} sortings\")\n",
    "\n",
    "# PARAMS\n",
    "rerun = 1  # 1 to re-run, 0 to skip if metrics are present\n",
    "gain_to_uV = 6.2\n",
    "verbose = 0\n",
    "\n",
    "for i, sorting_path in enumerate(sorting_path_list):\n",
    "    ephysKilosortPath = sorting_path\n",
    "    sampling_rate = infer_sampling_rate(ephysKilosortPath)\n",
    "    \n",
    "    kilosortVersion = 2 # Change if using Kilosort4\n",
    "    savePath = os.path.join(ephysKilosortPath, \"bc_output\")\n",
    "\n",
    "    param = bc.get_default_parameters(kilosort_path=ephysKilosortPath, kilosort_version=kilosortVersion, gain_to_uV=gain_to_uV)\n",
    "\n",
    "    param['extractRaw'] = 0\n",
    "    param['ephys_sample_rate'] = sampling_rate\n",
    "\n",
    "    param['nSyncChannels'] = 0\n",
    "    param['removeDuplicateSpikes'] = 0\n",
    "    param['minWvDuration'] = 200\n",
    "    param['maxWvDuration'] = 1500\n",
    "    param['tauR_valuesMin'] = 0.001\n",
    "    param['tauR_valuesMax'] = 0.003\n",
    "    param['maxRPVviolations'] = 0.05\n",
    "    param['verbose'] = verbose\n",
    "    param['computeDistanceMetrics'] = 1\n",
    "\n",
    "    qMetricsExist = (len(glob(os.path.join(savePath, 'qMetric*.mat'))) > 0) or \\\n",
    "                    (os.path.exists(os.path.join(savePath, 'templates._bc_qMetrics.parquet')))\n",
    "\n",
    "    if not qMetricsExist or rerun:\n",
    "        spikeTimes_samples, spikeTemplates, templateWaveforms, templateAmplitudes, pcFeatures, \\\n",
    "        pcFeatureIdx, channelPositions = bc.load_ephys_data(ephysKilosortPath)\n",
    "        \n",
    "        if len(spikeTimes_samples) > 0 and param['ephys_sample_rate'] > 0:\n",
    "            param['minNumSpikes'] = round(np.max(spikeTimes_samples) / param['ephys_sample_rate'] / 20)\n",
    "        else:\n",
    "            param['minNumSpikes'] = 0\n",
    "\n",
    "        param['nChannels'] = channelPositions.shape[0] if channelPositions is not None else 0\n",
    "\n",
    "\n",
    "\n",
    "\n",
    "\n",
    "        (\n",
    "            qMetrics,\n",
    "            param,\n",
    "            unitType,\n",
    "            unitTypeString,\n",
    "        ) = bc.run_bombcell(\n",
    "            ephysKilosortPath, savePath, param\n",
    "        )\n",
    "\n",
    "\n",
    "        \"\"\"\n",
    "        qMetric, runtimes = bc.get_all_quality_metrics(param=param, \n",
    "                                                       unique_templates=None,\n",
    "                                                       spike_times_seconds=spikeTimes_samples, \n",
    "                                                       spike_clusters=spikeTemplates, \n",
    "                                                       template_waveforms=templateWaveforms, \n",
    "                                                       template_amplitudes=templateAmplitudes,\n",
    "                                                       time_chunks=None,\n",
    "                                                       pc_features=pcFeatures, \n",
    "                                                       pc_features_idx=pcFeatureIdx,\n",
    "                                                       channel_positions=channelPositions, \n",
    "                                                       save_path=savePath)\n",
    "        \n",
    "        unitType, unitTypeString = bc.get_quality_unit_type(param, qMetric)\n",
    "        \"\"\"\n",
    "\n",
    "\n",
    "bc_path_list = [os.path.join(sp, \"bc_output\") for sp in sorting_path_list]\n",
    "\n",
    "overwrite = True\n",
    "bombcell_to_phy(bc_path_list[:3], overwrite)"
   ]
  },
  {
   "cell_type": "markdown",
   "id": "6451ac12",
   "metadata": {},
   "source": [
    "### 3.2 SI-Model"
   ]
  },
  {
   "cell_type": "markdown",
   "id": "ca51a643",
   "metadata": {},
   "source": [
    "#### Train Model\n",
    "You can train your own Model if you want - this is not necessary though. There is a model that works reasonably well for MaxTwo EPhys data. If you train your own model it might be more precise for your cell-line, but it takes a while to label your units manually and train the model to get reasonable results. The pretrained Model will be loaded in the next step of the pipeline, you can jump to \"Apply Model\"."
   ]
  },
  {
   "cell_type": "markdown",
   "id": "ef2e4df7",
   "metadata": {},
   "source": [
    "##### Manual Labeling\n",
    "In order to label your units manually and train your model, download phy and follow the instructions on the following GitHub repository: `https://github.com/cortex-lab/phy/`\n",
    "\n",
    "The documentation to explain the GUI can be found here `https://phy.readthedocs.io/en/latest/`\n",
    "\n",
    "You can also start the GUI from python, but you will have to change the kernel which makes you loose your cached variables. Use the code below:\n",
    "\n",
    "\n",
    "\n",
    "```python\n",
    "from phy.apps.template import template_gui\n",
    "from pathlib import Path\n",
    "\n",
    "save_root = 'your/path/to/your/sorted/wells/'\n",
    "well_id = 'well010'\n",
    "params_path = Path(save_root) / well_id / 'sorter_output' / 'params.py'\n",
    "template_gui(params_path)\n",
    "```"
   ]
  },
  {
   "cell_type": "markdown",
   "id": "ade41bc5",
   "metadata": {},
   "source": [
    "##### Training your Model"
   ]
  },
  {
   "cell_type": "code",
   "execution_count": 3,
   "id": "eec57870",
   "metadata": {},
   "outputs": [
    {
     "data": {
      "application/vnd.jupyter.widget-view+json": {
       "model_id": "bc05e8a4d4ac4426ad57d770077ce2f4",
       "version_major": 2,
       "version_minor": 0
      },
      "text/plain": [
       "estimate_sparsity (no parallelization):   0%|          | 0/10 [00:00<?, ?it/s]"
      ]
     },
     "metadata": {},
     "output_type": "display_data"
    },
    {
     "data": {
      "application/vnd.jupyter.widget-view+json": {
       "model_id": "214c9a6bc0c7415293eeeadb25943487",
       "version_major": 2,
       "version_minor": 0
      },
      "text/plain": [
       "noise_level (no parallelization):   0%|          | 0/20 [00:00<?, ?it/s]"
      ]
     },
     "metadata": {},
     "output_type": "display_data"
    },
    {
     "data": {
      "application/vnd.jupyter.widget-view+json": {
       "model_id": "26d6c978fa544ca79313dc9681fc8fa5",
       "version_major": 2,
       "version_minor": 0
      },
      "text/plain": [
       "compute_waveforms (no parallelization):   0%|          | 0/10 [00:00<?, ?it/s]"
      ]
     },
     "metadata": {},
     "output_type": "display_data"
    },
    {
     "data": {
      "application/vnd.jupyter.widget-view+json": {
       "model_id": "09416091e4824eab8c686a6b50d01942",
       "version_major": 2,
       "version_minor": 0
      },
      "text/plain": [
       "Fitting PCA:   0%|          | 0/30 [00:00<?, ?it/s]"
      ]
     },
     "metadata": {},
     "output_type": "display_data"
    },
    {
     "data": {
      "application/vnd.jupyter.widget-view+json": {
       "model_id": "1770389fab28431fbe6156d25b5b27a7",
       "version_major": 2,
       "version_minor": 0
      },
      "text/plain": [
       "Projecting waveforms:   0%|          | 0/30 [00:00<?, ?it/s]"
      ]
     },
     "metadata": {},
     "output_type": "display_data"
    },
    {
     "data": {
      "application/vnd.jupyter.widget-view+json": {
       "model_id": "2ecdc7e07202440fb694943555dfb0eb",
       "version_major": 2,
       "version_minor": 0
      },
      "text/plain": [
       "Compute : spike_locations + spike_amplitudes (no parallelization):   0%|          | 0/10 [00:00<?, ?it/s]"
      ]
     },
     "metadata": {},
     "output_type": "display_data"
    },
    {
     "data": {
      "application/vnd.jupyter.widget-view+json": {
       "model_id": "54e6979281eb4f9e824137b6bd2eee28",
       "version_major": 2,
       "version_minor": 0
      },
      "text/plain": [
       "noise_level (no parallelization):   0%|          | 0/20 [00:00<?, ?it/s]"
      ]
     },
     "metadata": {},
     "output_type": "display_data"
    },
    {
     "data": {
      "application/vnd.jupyter.widget-view+json": {
       "model_id": "d0c8e0bebf4a41ba90ceb5e67eac4d81",
       "version_major": 2,
       "version_minor": 0
      },
      "text/plain": [
       "calculate pc_metrics:   0%|          | 0/30 [00:00<?, ?it/s]"
      ]
     },
     "metadata": {},
     "output_type": "display_data"
    },
    {
     "data": {
      "text/plain": [
       "\"\\n#labels = pd.read_csv(path_to_sorting / 'cluster_KSLabel.tsv', sep='\\t')\\n# manual_labels = ['good', 'good', 'good', 'good', 'good', 'bad', 'bad', 'bad', 'bad', 'bad']\\nmanual_labels = []\\nfor i in range(len_1):\\n    manual_labels.append('good')\\nfor i in range(len_2):\\n    manual_labels.append('bad')\\n\""
      ]
     },
     "execution_count": 3,
     "metadata": {},
     "output_type": "execute_result"
    },
    {
     "data": {
      "image/png": "[encoded data removed]",
      "text/plain": [
       "<Figure size 640x480 with 3 Axes>"
      ]
     },
     "metadata": {},
     "output_type": "display_data"
    }
   ],
   "source": [
    "# Note, you can set the number of cores you use using e.g.\n",
    "# si.set_global_job_kwargs(n_jobs = 8)\n",
    "\n",
    "\"\"\"\n",
    "os.environ['HDF5_PLUGIN_PATH'] = 'C:/Users/elias/OneDrive - ETH Zurich/2025FS - Master Thesis/1 - Scripts/Github/DPQC/MaxTwo_Quality_Control/'\n",
    "\n",
    "# Choose sorting to train the model on\n",
    "well_id = 'well001'\n",
    "path_to_sorting = Path(save_root) / well_id / 'sorter_output'\n",
    "sorting_train = si.read_kilosort(folder_path=path_to_sorting)\n",
    "\n",
    "# Real Recording Loading\n",
    "h5 = h5py.File(rec_path)\n",
    "rec_name = list(h5['wells'][well_id].keys())[0]\n",
    "rec_train = si.MaxwellRecordingExtractor(rec_path, stream_id=well_id, rec_name=rec_name)\n",
    "\"\"\"\n",
    "\n",
    "# For testing purposes\n",
    "len_1 = 15\n",
    "len_2 = 15\n",
    "rec_train, sorting_1 = si.generate_ground_truth_recording(num_channels=4, seed=1, num_units=len_1)\n",
    "_, sorting_2 =si.generate_ground_truth_recording(num_channels=4, seed=2, num_units=len_2)\n",
    "\n",
    "sorting_train = si.aggregate_units([sorting_1, sorting_2])\n",
    "\n",
    "\n",
    "\n",
    "analyzer = si.create_sorting_analyzer(sorting=sorting_train, recording=rec_train)\n",
    "analyzer.compute(['noise_levels','random_spikes','waveforms','templates'])\n",
    "si.plot_unit_templates(analyzer, unit_ids=[\"0\", \"1\", \"2\"])\n",
    "\n",
    "analyzer.compute(['spike_locations','spike_amplitudes','correlograms','principal_components','quality_metrics','template_metrics'])\n",
    "\n",
    "\n",
    "\"\"\"\n",
    "label_path = Path(save_root) / well_id / 'sorter_output' / 'cluster_bc_unitType.tsv'\n",
    "df = pd.read_csv(label_path, sep='\\t')\n",
    "manual_labels = ['good' if unit_type == 'GOOD' else 'bad' for unit_type in df['bc_unitType']]\n",
    "\"\"\"\n",
    "\n",
    "\n",
    "\"\"\"\n",
    "#labels = pd.read_csv(path_to_sorting / 'cluster_KSLabel.tsv', sep='\\t')\n",
    "# manual_labels = ['good', 'good', 'good', 'good', 'good', 'bad', 'bad', 'bad', 'bad', 'bad']\n",
    "manual_labels = []\n",
    "for i in range(len_1):\n",
    "    manual_labels.append('good')\n",
    "for i in range(len_2):\n",
    "    manual_labels.append('bad')\n",
    "\"\"\""
   ]
  },
  {
   "cell_type": "code",
   "execution_count": 66,
   "id": "babdbd3f",
   "metadata": {},
   "outputs": [
    {
     "name": "stdout",
     "output_type": "stream",
     "text": [
      "Using pre-defined rec_train, sorting_train, and analyzer. Loaded 30 units.\n"
     ]
    },
    {
     "name": "stdout",
     "output_type": "stream",
     "text": [
      "Displaying interactive GUI...\n"
     ]
    },
    {
     "data": {
      "application/vnd.jupyter.widget-view+json": {
       "model_id": "4618c31e6c7c4f3d9c67d1fb961f1676",
       "version_major": 2,
       "version_minor": 0
      },
      "text/plain": [
       "VBox(children=(Dropdown(description='Select Unit:', options=(np.str_('0'), np.str_('1'), np.str_('2'), np.str_…"
      ]
     },
     "metadata": {},
     "output_type": "display_data"
    }
   ],
   "source": [
    "from spikeinterface.extractors.toy_example import generate_ground_truth_recording\n",
    "\n",
    "# --- Define Output Directory for Labels ---\n",
    "# IMPORTANT: Change this to your desired output directory, e.g., your sorter_output folder.\n",
    "# This path should exist or be created before exporting.\n",
    "# output_dir_for_labels = path_to_sorting # Change if needed\n",
    "\n",
    "output_dir_for_labels = 'KiloSort_Quality_Control/'\n",
    "\n",
    "\n",
    "# --- Load Your SpikeInterface Data ---\n",
    "# Ensure rec_train, sorting_train, and analyzer are defined BEFORE this cell runs.\n",
    "# If not, toy data will be generated for demonstration purposes.\n",
    "if 'rec_train' not in locals() or 'sorting_train' not in locals() or 'analyzer' not in locals():\n",
    "    print(\"WARNING: rec_train, sorting_train, or analyzer not defined. Generating toy data.\")\n",
    "    \n",
    "    recording = generate_ground_truth_recording(\n",
    "        durations=[10], sampling_frequency=30000, num_channels=4, seed=42\n",
    "    )\n",
    "    from spikeinterface.sorting_tools import NumpySorting\n",
    "    spike_times = np.array([1000, 1050, 2000, 2050, 3000, 3050, 4000, 4050])\n",
    "    spike_clusters = np.array([0, 0, 1, 1, 2, 2, 3, 3])\n",
    "    sorting = NumpySorting.from_times_labels(spike_times, spike_clusters, sampling_frequency=recording.sampling_frequency)\n",
    "    \n",
    "    import tempfile\n",
    "    temp_waveforms_folder = Path(tempfile.mkdtemp())\n",
    "    analyzer = si.create_sorting_analyzer(sorting, recording, folder=temp_waveforms_folder, format=\"binary\", sparse=False)\n",
    "    analyzer.compute(\"random_spikes\")\n",
    "    analyzer.compute(\"unit_waveforms\")\n",
    "    analyzer.compute(\"correlograms\")\n",
    "    print(f\"Loaded {len(sorting.get_unit_ids())} units from toy data.\")\n",
    "else:\n",
    "    recording = rec_train\n",
    "    sorting = sorting_train\n",
    "    print(f\"Using pre-defined rec_train, sorting_train, and analyzer. Loaded {len(sorting.get_unit_ids())} units.\")\n",
    "\n",
    "# --- Initialize Unit Properties for Labeling ---\n",
    "unit_ids = sorting.get_unit_ids()\n",
    "initial_labels = ['unlabeled'] * len(unit_ids)\n",
    "sorting.set_property('quality_label', initial_labels)\n",
    "\n",
    "current_unit_labels = {unit_id: 'unlabeled' for unit_id in unit_ids}\n",
    "for i, unit_id in enumerate(unit_ids):\n",
    "    current_unit_labels[unit_id] = sorting.get_property('quality_label')[i]\n",
    "\n",
    "# --- Create Interactive Widgets ---\n",
    "unit_selector = widgets.Dropdown(\n",
    "    options=unit_ids,\n",
    "    value=unit_ids[0],\n",
    "    description='Select Unit:',\n",
    "    disabled=False,\n",
    ")\n",
    "\n",
    "output_plot = widgets.Output()\n",
    "\n",
    "button_good = widgets.Button(description=\"Label as Good\", button_style='success')\n",
    "button_mua = widgets.Button(description=\"Label as MUA\", button_style='warning')\n",
    "button_noise = widgets.Button(description=\"Label as Noise\", button_style='danger')\n",
    "button_unlabeled = widgets.Button(description=\"Unlabel\", button_style='info')\n",
    "button_export = widgets.Button(description=\"Export Labels to TSV\", button_style='primary') # New button\n",
    "\n",
    "label_status = widgets.Textarea(\n",
    "    value='Labels will appear here.',\n",
    "    description='Unit Labels:',\n",
    "    disabled=True,\n",
    "    layout=widgets.Layout(width='auto', height='150px')\n",
    ")\n",
    "\n",
    "# --- Define Update and Labeling Functions ---\n",
    "def update_plot(change):\n",
    "    selected_unit_id = change['new']\n",
    "    with output_plot:\n",
    "        clear_output(wait=True)\n",
    "        fig, axes = plt.subplots(1, 2, figsize=(14, 4))\n",
    "\n",
    "        sw.plot_unit_waveforms(analyzer, unit_ids=[selected_unit_id], ax=axes[0], same_axis=True)\n",
    "        axes[0].set_title(f\"Waveforms for Unit {selected_unit_id} (Label: {current_unit_labels[selected_unit_id]})\")\n",
    "\n",
    "        sw.plot_autocorrelograms(analyzer, unit_ids=[selected_unit_id], ax=axes[1])\n",
    "        axes[1].set_title(f\"Autocorrelogram for Unit {selected_unit_id}\")\n",
    "        \n",
    "        plt.tight_layout()\n",
    "        plt.show()\n",
    "\n",
    "def update_label_status():\n",
    "    sorted_labels = current_unit_labels.items()\n",
    "    label_text = \"\\n\".join([f\"Unit {uid}: {label}\" for uid, label in sorted_labels])\n",
    "    label_status.value = label_text\n",
    "\n",
    "def apply_label(b):\n",
    "    selected_unit_id = unit_selector.value\n",
    "    label = b.description.split(\" \")[2].lower()\n",
    "    if label == \"unlabel\":\n",
    "        label = \"unlabeled\"\n",
    "\n",
    "    current_unit_labels[selected_unit_id] = label\n",
    "    idx = np.where(unit_ids == selected_unit_id)[0][0] \n",
    "    new_property_values = list(sorting.get_property('quality_label'))\n",
    "    new_property_values[idx] = label\n",
    "    sorting.set_property('quality_label', new_property_values)\n",
    "\n",
    "    with output_plot:\n",
    "        clear_output(wait=True)\n",
    "        fig, axes = plt.subplots(1, 2, figsize=(14, 4))\n",
    "\n",
    "        sw.plot_unit_waveforms(analyzer, unit_ids=[selected_unit_id], ax=axes[0], same_axis=True)\n",
    "        axes[0].set_title(f\"Waveforms for Unit {selected_unit_id} (Label: {current_unit_labels[selected_unit_id]})\")\n",
    "\n",
    "        sw.plot_autocorrelograms(analyzer, unit_ids=[selected_unit_id], ax=axes[1])\n",
    "        axes[1].set_title(f\"Autocorrelogram for Unit {selected_unit_id}\")\n",
    "\n",
    "        plt.tight_layout()\n",
    "        plt.show()\n",
    "    update_label_status()\n",
    "    print(f\"Unit {selected_unit_id} labeled as '{label}'\")\n",
    "\n",
    "    # --- Go to next unit automatically ---\n",
    "    current_unit_index = list(unit_ids).index(selected_unit_id)\n",
    "    next_unit_index = current_unit_index + 1\n",
    "\n",
    "    if next_unit_index < len(unit_ids):\n",
    "        unit_selector.value = unit_ids[next_unit_index]\n",
    "    else:\n",
    "        print(\"All units reviewed!\")\n",
    "        # Optionally, you could reset to the first unit or disable the selector\n",
    "        # unit_selector.value = unit_ids[0]\n",
    "        # unit_selector.disabled = True\n",
    "\n",
    "def export_labels_to_tsv(b):\n",
    "    \"\"\"Exports the current unit labels to a TSV file.\"\"\"\n",
    "    labels_df = pd.DataFrame({\n",
    "        'unit_id': list(current_unit_labels.keys()),\n",
    "        'quality_label': list(current_unit_labels.values())\n",
    "    })\n",
    "    output_filepath = Path(output_dir_for_labels) / \"manual_unit_labels.tsv\"\n",
    "    labels_df.to_csv(output_filepath, sep='\\t', index=False)\n",
    "    print(f\"Labels exported to: {output_filepath}\")\n",
    "\n",
    "# --- Connect Widgets to Functions ---\n",
    "unit_selector.observe(update_plot, names='value')\n",
    "\n",
    "button_good.on_click(apply_label)\n",
    "button_mua.on_click(apply_label)\n",
    "button_noise.on_click(apply_label)\n",
    "button_unlabeled.on_click(apply_label)\n",
    "button_export.on_click(export_labels_to_tsv) # Connect the new button\n",
    "\n",
    "# Initial plot and label status update\n",
    "update_plot({'new': unit_selector.value})\n",
    "update_label_status()\n",
    "\n",
    "# --- Arrange and Display Widgets ---\n",
    "label_buttons = widgets.HBox([button_good, button_mua, button_noise, button_unlabeled])\n",
    "export_button_box = widgets.HBox([button_export])\n",
    "ui = widgets.VBox([unit_selector, label_buttons, output_plot, label_status, export_button_box])\n",
    "\n",
    "print(\"Displaying interactive GUI...\")\n",
    "display(ui)\n",
    "\n",
    "# Example to access labeled data:\n",
    "# good_units = [uid for uid, label in current_unit_labels.items() if label == 'good']\n",
    "# print(\"\\nExample: Good units after labeling:\", good_units)"
   ]
  },
  {
   "cell_type": "code",
   "execution_count": 51,
   "id": "68422457",
   "metadata": {},
   "outputs": [
    {
     "name": "stdout",
     "output_type": "stream",
     "text": [
      "['good', 'good', 'good', 'good', 'good', 'good', 'noise', 'good', 'good', 'good', 'good', 'good', 'good', 'good', 'good', 'noise', 'noise', 'noise', 'noise', 'noise', 'noise', 'noise', 'noise', 'noise', 'noise', 'noise', 'noise', 'noise', 'noise', 'noise']\n"
     ]
    }
   ],
   "source": [
    "manual_labels = pd.read_csv(Path(output_dir_for_labels) / \"manual_unit_labels.tsv\", sep='\\t')\n",
    "print(manual_labels['quality_label'].to_list())"
   ]
  },
  {
   "cell_type": "code",
   "execution_count": 58,
   "id": "d6823f0d-2ec1-4855-9ece-b8070926ec1f",
   "metadata": {},
   "outputs": [
    {
     "name": "stdout",
     "output_type": "stream",
     "text": [
      "Running RandomForestClassifier with imputation median and scaling StandardScaler()\n",
      "BayesSearchCV from scikit-optimize not available, using RandomizedSearchCV\n"
     ]
    },
    {
     "data": {
      "text/html": [
       "<div>\n",
       "<style scoped>\n",
       "    .dataframe tbody tr th:only-of-type {\n",
       "        vertical-align: middle;\n",
       "    }\n",
       "\n",
       "    .dataframe tbody tr th {\n",
       "        vertical-align: top;\n",
       "    }\n",
       "\n",
       "    .dataframe thead th {\n",
       "        text-align: right;\n",
       "    }\n",
       "</style>\n",
       "<table border=\"1\" class=\"dataframe\">\n",
       "  <thead>\n",
       "    <tr style=\"text-align: right;\">\n",
       "      <th></th>\n",
       "      <th>classifier name</th>\n",
       "      <th>imputation_strategy</th>\n",
       "      <th>scaling_strategy</th>\n",
       "      <th>balanced_accuracy</th>\n",
       "      <th>precision</th>\n",
       "      <th>recall</th>\n",
       "      <th>model_id</th>\n",
       "      <th>best_params</th>\n",
       "    </tr>\n",
       "  </thead>\n",
       "  <tbody>\n",
       "    <tr>\n",
       "      <th>0</th>\n",
       "      <td>RandomForestClassifier</td>\n",
       "      <td>median</td>\n",
       "      <td>StandardScaler()</td>\n",
       "      <td>1.0</td>\n",
       "      <td>1.0</td>\n",
       "      <td>1.0</td>\n",
       "      <td>0</td>\n",
       "      <td>{'n_estimators': 100, 'min_samples_split': 2, ...</td>\n",
       "    </tr>\n",
       "  </tbody>\n",
       "</table>\n",
       "</div>"
      ],
      "text/plain": [
       "          classifier name imputation_strategy  scaling_strategy  \\\n",
       "0  RandomForestClassifier              median  StandardScaler()   \n",
       "\n",
       "   balanced_accuracy  precision  recall  model_id  \\\n",
       "0                1.0        1.0     1.0         0   \n",
       "\n",
       "                                         best_params  \n",
       "0  {'n_estimators': 100, 'min_samples_split': 2, ...  "
      ]
     },
     "execution_count": 58,
     "metadata": {},
     "output_type": "execute_result"
    }
   ],
   "source": [
    "model_folder = \"models/\"\n",
    "manual_labels = pd.read_csv(Path(output_dir_for_labels) / \"manual_unit_labels.tsv\", sep='\\t')\n",
    "manual_labels = manual_labels['quality_label'].tolist()\n",
    "\n",
    "trainer = sc.train_model(\n",
    "    mode=\"analyzers\",\n",
    "    labels=[manual_labels],\n",
    "    analyzers=[analyzer],\n",
    "    folder=model_folder,\n",
    "    overwrite=True, # Set to True if you want to overwrite existing models\n",
    "    metric_names = None, # Specify which metrics to use for training: by default uses those already calculted\n",
    "    imputation_strategies = [\"median\"], # Defaults to all\n",
    "    scaling_techniques = [\"standard_scaler\"], # Defaults to all\n",
    "    classifiers = None, # Default to Random Forest only. Other classifiers you can try [ \"AdaBoostClassifier\",\"GradientBoostingClassifier\",\"LogisticRegression\",\"MLPClassifier\"]\n",
    "    search_kwargs = {'cv': 3} # Parameters used during the model hyperparameter search\n",
    ")\n",
    "\n",
    "best_model = trainer.best_pipeline\n",
    "\n",
    "accuracies = pd.read_csv(Path(model_folder) / \"model_accuracies.csv\", index_col = 0)\n",
    "accuracies.head()"
   ]
  },
  {
   "cell_type": "code",
   "execution_count": 59,
   "id": "ec4e6d18",
   "metadata": {},
   "outputs": [
    {
     "name": "stdout",
     "output_type": "stream",
     "text": [
      "   prediction  probability\n",
      "0        good     1.000000\n",
      "1        good     0.880000\n",
      "2        good     1.000000\n",
      "3        good     1.000000\n",
      "4        good     1.000000\n",
      "5        good     0.980000\n",
      "6       noise     1.000000\n",
      "7        good     1.000000\n",
      "8        good     1.000000\n",
      "9        good     0.980000\n",
      "10       good     1.000000\n",
      "11       good     1.000000\n",
      "12       good     0.980000\n",
      "13       good     1.000000\n",
      "14       good     0.927860\n",
      "15      noise     1.000000\n",
      "16      noise     0.990000\n",
      "17      noise     1.000000\n",
      "18      noise     1.000000\n",
      "19      noise     0.970000\n",
      "20      noise     0.970000\n",
      "21      noise     0.992973\n",
      "22      noise     1.000000\n",
      "23      noise     0.989167\n",
      "24      noise     0.989167\n",
      "25      noise     1.000000\n",
      "26      noise     0.960000\n",
      "27      noise     1.000000\n",
      "28      noise     0.970000\n",
      "29      noise     1.000000\n"
     ]
    },
    {
     "data": {
      "text/plain": [
       "<spikeinterface.widgets.unit_templates.UnitTemplatesWidget at 0x2d8937ca520>"
      ]
     },
     "execution_count": 59,
     "metadata": {},
     "output_type": "execute_result"
    },
    {
     "data": {
      "image/png": "[encoded data removed]",
      "text/plain": [
       "<Figure size 640x480 with 2 Axes>"
      ]
     },
     "metadata": {},
     "output_type": "display_data"
    }
   ],
   "source": [
    "model, model_info = sc.load_model(\n",
    "    model_folder=model_folder,\n",
    "    trusted=['numpy.dtype'] # Specify which modules are trusted\n",
    ")\n",
    "\n",
    "labels_and_probababilities = si.auto_label_units(\n",
    "    sorting_analyzer=analyzer,\n",
    "    model_folder=model_folder,\n",
    "    trust_model=True\n",
    ")\n",
    "\n",
    "\"\"\" \n",
    "# We can load a pretrained model from HuggingFace instead of training one\n",
    "model, model_info = sc.load_model(\n",
    "    sorting_analyzer = analyzer,\n",
    "    repo_id = \"SpikeInterface/toy_tetrode_model\",\n",
    "    trusted = ['numpy.dtype']\n",
    ")\n",
    "\n",
    "\n",
    "# The returned labels and probabilities are stored in the sorting analyzer\n",
    "labels = analyzer.sorting.get_property(\"classifier_label\")\n",
    "probabilities = analyzer.sorting.get_property(\"classifier_probability\")\n",
    "\"\"\"\n",
    "\n",
    "print(labels_and_probababilities)\n",
    "\n",
    "sw.plot_unit_templates(analyzer, unit_ids=['3','9'])\n"
   ]
  },
  {
   "cell_type": "code",
   "execution_count": 60,
   "id": "1d2b2e76",
   "metadata": {},
   "outputs": [
    {
     "data": {
      "image/png": "[encoded data removed]",
      "text/plain": [
       "<Figure size 640x480 with 1 Axes>"
      ]
     },
     "metadata": {},
     "output_type": "display_data"
    }
   ],
   "source": [
    "from sklearn.metrics import confusion_matrix, balanced_accuracy_score\n",
    "\n",
    "label_conversion = model_info['label_conversion']\n",
    "predictions = labels_and_probababilities['prediction']\n",
    "\n",
    "conf_matrix = confusion_matrix(manual_labels, predictions)\n",
    "\n",
    "# Calculate balanced accuracy for the confusion matrix\n",
    "balanced_accuracy = balanced_accuracy_score(manual_labels, predictions)\n",
    "\n",
    "plt.imshow(conf_matrix)\n",
    "for (index, value) in np.ndenumerate(conf_matrix):\n",
    "    plt.annotate( str(value), xy=index, color=\"white\", fontsize=\"15\")\n",
    "plt.xlabel('Predicted Label')\n",
    "plt.ylabel('Manual Label')\n",
    "plt.xticks(ticks = [0, 1], labels = list(label_conversion.values()))\n",
    "plt.yticks(ticks = [0, 1], labels = list(label_conversion.values()))\n",
    "plt.title('Predicted vs Manual Label')\n",
    "plt.suptitle(f\"Balanced Accuracy: {balanced_accuracy}\")\n",
    "plt.show()"
   ]
  },
  {
   "cell_type": "markdown",
   "id": "fcc45506",
   "metadata": {},
   "source": [
    "#### Apply Model"
   ]
  },
  {
   "cell_type": "code",
   "execution_count": null,
   "id": "b8193099",
   "metadata": {},
   "outputs": [
    {
     "data": {
      "application/vnd.jupyter.widget-view+json": {
       "model_id": "eb784fe3231e43ac94ec03e9de0192e2",
       "version_major": 2,
       "version_minor": 0
      },
      "text/plain": [
       "estimate_sparsity (no parallelization):   0%|          | 0/10 [00:00<?, ?it/s]"
      ]
     },
     "metadata": {},
     "output_type": "display_data"
    },
    {
     "data": {
      "application/vnd.jupyter.widget-view+json": {
       "model_id": "f4fdc05a1bfe4e00a7f36f84ec8bdfff",
       "version_major": 2,
       "version_minor": 0
      },
      "text/plain": [
       "noise_level (no parallelization):   0%|          | 0/20 [00:00<?, ?it/s]"
      ]
     },
     "metadata": {},
     "output_type": "display_data"
    },
    {
     "data": {
      "application/vnd.jupyter.widget-view+json": {
       "model_id": "97716fc950954a5a9e0acf5df60a62e0",
       "version_major": 2,
       "version_minor": 0
      },
      "text/plain": [
       "compute_waveforms (no parallelization):   0%|          | 0/10 [00:00<?, ?it/s]"
      ]
     },
     "metadata": {},
     "output_type": "display_data"
    },
    {
     "data": {
      "application/vnd.jupyter.widget-view+json": {
       "model_id": "6f2d36050fd743aba2574fc14a000b74",
       "version_major": 2,
       "version_minor": 0
      },
      "text/plain": [
       "Fitting PCA:   0%|          | 0/10 [00:00<?, ?it/s]"
      ]
     },
     "metadata": {},
     "output_type": "display_data"
    },
    {
     "data": {
      "application/vnd.jupyter.widget-view+json": {
       "model_id": "551275511ad946709dc9d3198b95bc2e",
       "version_major": 2,
       "version_minor": 0
      },
      "text/plain": [
       "Projecting waveforms:   0%|          | 0/10 [00:00<?, ?it/s]"
      ]
     },
     "metadata": {},
     "output_type": "display_data"
    },
    {
     "data": {
      "application/vnd.jupyter.widget-view+json": {
       "model_id": "baa8b4b8934344e383eaf604ed1029d3",
       "version_major": 2,
       "version_minor": 0
      },
      "text/plain": [
       "Compute : spike_locations + spike_amplitudes (no parallelization):   0%|          | 0/10 [00:00<?, ?it/s]"
      ]
     },
     "metadata": {},
     "output_type": "display_data"
    },
    {
     "data": {
      "application/vnd.jupyter.widget-view+json": {
       "model_id": "08c49a2c9e7c4d709b8462fc4180b3c3",
       "version_major": 2,
       "version_minor": 0
      },
      "text/plain": [
       "noise_level (no parallelization):   0%|          | 0/20 [00:00<?, ?it/s]"
      ]
     },
     "metadata": {},
     "output_type": "display_data"
    },
    {
     "data": {
      "application/vnd.jupyter.widget-view+json": {
       "model_id": "863b99688b5247e7b687f68d3ebc8a21",
       "version_major": 2,
       "version_minor": 0
      },
      "text/plain": [
       "calculate pc_metrics:   0%|          | 0/10 [00:00<?, ?it/s]"
      ]
     },
     "metadata": {},
     "output_type": "display_data"
    },
    {
     "name": "stdout",
     "output_type": "stream",
     "text": [
      "True\n",
      "  prediction  probability\n",
      "0       good     0.970000\n",
      "1       good     0.940000\n",
      "2       good     1.000000\n",
      "3       good     0.970000\n",
      "4       good     1.000000\n",
      "5      noise     0.902973\n",
      "6      noise     0.847556\n",
      "7      noise     0.872140\n",
      "8      noise     0.832140\n",
      "9      noise     0.862140\n"
     ]
    },
    {
     "data": {
      "application/vnd.jupyter.widget-view+json": {
       "model_id": "ec23499a043b47498e16a73049e7c101",
       "version_major": 2,
       "version_minor": 0
      },
      "text/plain": [
       "estimate_sparsity (no parallelization):   0%|          | 0/10 [00:00<?, ?it/s]"
      ]
     },
     "metadata": {},
     "output_type": "display_data"
    },
    {
     "data": {
      "application/vnd.jupyter.widget-view+json": {
       "model_id": "6572e91944a54ee792c41b3203a78faf",
       "version_major": 2,
       "version_minor": 0
      },
      "text/plain": [
       "noise_level (no parallelization):   0%|          | 0/20 [00:00<?, ?it/s]"
      ]
     },
     "metadata": {},
     "output_type": "display_data"
    },
    {
     "data": {
      "application/vnd.jupyter.widget-view+json": {
       "model_id": "f81065f87e1b4557b14c43e94b6b2602",
       "version_major": 2,
       "version_minor": 0
      },
      "text/plain": [
       "compute_waveforms (no parallelization):   0%|          | 0/10 [00:00<?, ?it/s]"
      ]
     },
     "metadata": {},
     "output_type": "display_data"
    },
    {
     "data": {
      "application/vnd.jupyter.widget-view+json": {
       "model_id": "8d30370db6294602b10dafb572fe7860",
       "version_major": 2,
       "version_minor": 0
      },
      "text/plain": [
       "Fitting PCA:   0%|          | 0/10 [00:00<?, ?it/s]"
      ]
     },
     "metadata": {},
     "output_type": "display_data"
    },
    {
     "data": {
      "application/vnd.jupyter.widget-view+json": {
       "model_id": "26c88e1b6b9545ffa34f5c4f61aa06d9",
       "version_major": 2,
       "version_minor": 0
      },
      "text/plain": [
       "Projecting waveforms:   0%|          | 0/10 [00:00<?, ?it/s]"
      ]
     },
     "metadata": {},
     "output_type": "display_data"
    },
    {
     "data": {
      "application/vnd.jupyter.widget-view+json": {
       "model_id": "f1bb30c82d8240718cb67385591668f4",
       "version_major": 2,
       "version_minor": 0
      },
      "text/plain": [
       "Compute : spike_locations + spike_amplitudes (no parallelization):   0%|          | 0/10 [00:00<?, ?it/s]"
      ]
     },
     "metadata": {},
     "output_type": "display_data"
    },
    {
     "data": {
      "application/vnd.jupyter.widget-view+json": {
       "model_id": "87967ef9929f42e6b604ab332d1e2fb6",
       "version_major": 2,
       "version_minor": 0
      },
      "text/plain": [
       "noise_level (no parallelization):   0%|          | 0/20 [00:00<?, ?it/s]"
      ]
     },
     "metadata": {},
     "output_type": "display_data"
    },
    {
     "data": {
      "application/vnd.jupyter.widget-view+json": {
       "model_id": "62d1a377acf7432790f03c173cdc6a72",
       "version_major": 2,
       "version_minor": 0
      },
      "text/plain": [
       "calculate pc_metrics:   0%|          | 0/10 [00:00<?, ?it/s]"
      ]
     },
     "metadata": {},
     "output_type": "display_data"
    },
    {
     "name": "stdout",
     "output_type": "stream",
     "text": [
      "True\n",
      "  prediction  probability\n",
      "0       good     1.000000\n",
      "1      noise     0.562973\n",
      "2       good     1.000000\n",
      "3       good     1.000000\n",
      "4       good     0.907860\n",
      "5      noise     0.892140\n",
      "6      noise     0.872973\n",
      "7      noise     0.892973\n",
      "8      noise     0.862973\n",
      "9      noise     0.862140\n"
     ]
    },
    {
     "data": {
      "application/vnd.jupyter.widget-view+json": {
       "model_id": "c66c373bdbe84565ab293e3bd74596d6",
       "version_major": 2,
       "version_minor": 0
      },
      "text/plain": [
       "estimate_sparsity (no parallelization):   0%|          | 0/10 [00:00<?, ?it/s]"
      ]
     },
     "metadata": {},
     "output_type": "display_data"
    },
    {
     "data": {
      "application/vnd.jupyter.widget-view+json": {
       "model_id": "54794a60acd944409d4168faff370bbf",
       "version_major": 2,
       "version_minor": 0
      },
      "text/plain": [
       "noise_level (no parallelization):   0%|          | 0/20 [00:00<?, ?it/s]"
      ]
     },
     "metadata": {},
     "output_type": "display_data"
    },
    {
     "data": {
      "application/vnd.jupyter.widget-view+json": {
       "model_id": "a787e0c09ba54972a483b9be6735c095",
       "version_major": 2,
       "version_minor": 0
      },
      "text/plain": [
       "compute_waveforms (no parallelization):   0%|          | 0/10 [00:00<?, ?it/s]"
      ]
     },
     "metadata": {},
     "output_type": "display_data"
    },
    {
     "data": {
      "application/vnd.jupyter.widget-view+json": {
       "model_id": "58a173380a084b3aa8c3cb3c9cc835b9",
       "version_major": 2,
       "version_minor": 0
      },
      "text/plain": [
       "Fitting PCA:   0%|          | 0/10 [00:00<?, ?it/s]"
      ]
     },
     "metadata": {},
     "output_type": "display_data"
    },
    {
     "data": {
      "application/vnd.jupyter.widget-view+json": {
       "model_id": "efe092d1f2d545268ceab1f467024e75",
       "version_major": 2,
       "version_minor": 0
      },
      "text/plain": [
       "Projecting waveforms:   0%|          | 0/10 [00:00<?, ?it/s]"
      ]
     },
     "metadata": {},
     "output_type": "display_data"
    },
    {
     "data": {
      "application/vnd.jupyter.widget-view+json": {
       "model_id": "3a0721ec242941bd9ad2f96cc53e69a3",
       "version_major": 2,
       "version_minor": 0
      },
      "text/plain": [
       "Compute : spike_locations + spike_amplitudes (no parallelization):   0%|          | 0/10 [00:00<?, ?it/s]"
      ]
     },
     "metadata": {},
     "output_type": "display_data"
    },
    {
     "data": {
      "application/vnd.jupyter.widget-view+json": {
       "model_id": "16ef3a01badf42fab1e5564ea335bde7",
       "version_major": 2,
       "version_minor": 0
      },
      "text/plain": [
       "noise_level (no parallelization):   0%|          | 0/20 [00:00<?, ?it/s]"
      ]
     },
     "metadata": {},
     "output_type": "display_data"
    },
    {
     "data": {
      "application/vnd.jupyter.widget-view+json": {
       "model_id": "112eb1de121845d58bc9831dfd644c88",
       "version_major": 2,
       "version_minor": 0
      },
      "text/plain": [
       "calculate pc_metrics:   0%|          | 0/10 [00:00<?, ?it/s]"
      ]
     },
     "metadata": {},
     "output_type": "display_data"
    },
    {
     "name": "stdout",
     "output_type": "stream",
     "text": [
      "True\n",
      "  prediction  probability\n",
      "0       good     1.000000\n",
      "1       good     1.000000\n",
      "2       good     0.897860\n",
      "3      noise     0.782973\n",
      "4       good     0.907860\n",
      "5      noise     0.892973\n",
      "6      noise     0.892973\n",
      "7      noise     0.882140\n",
      "8      noise     0.892973\n",
      "9      noise     0.802973\n"
     ]
    },
    {
     "data": {
      "application/vnd.jupyter.widget-view+json": {
       "model_id": "0bfd01eda39440cf9c613b4206222195",
       "version_major": 2,
       "version_minor": 0
      },
      "text/plain": [
       "estimate_sparsity (no parallelization):   0%|          | 0/10 [00:00<?, ?it/s]"
      ]
     },
     "metadata": {},
     "output_type": "display_data"
    },
    {
     "data": {
      "application/vnd.jupyter.widget-view+json": {
       "model_id": "f5ea624236a4450999957ec96338b37d",
       "version_major": 2,
       "version_minor": 0
      },
      "text/plain": [
       "noise_level (no parallelization):   0%|          | 0/20 [00:00<?, ?it/s]"
      ]
     },
     "metadata": {},
     "output_type": "display_data"
    },
    {
     "data": {
      "application/vnd.jupyter.widget-view+json": {
       "model_id": "fcd89b411e114d2d955a2e43a6e70dd2",
       "version_major": 2,
       "version_minor": 0
      },
      "text/plain": [
       "compute_waveforms (no parallelization):   0%|          | 0/10 [00:00<?, ?it/s]"
      ]
     },
     "metadata": {},
     "output_type": "display_data"
    },
    {
     "data": {
      "application/vnd.jupyter.widget-view+json": {
       "model_id": "8f99cd732af345a0b8f16d520270f6bb",
       "version_major": 2,
       "version_minor": 0
      },
      "text/plain": [
       "Fitting PCA:   0%|          | 0/10 [00:00<?, ?it/s]"
      ]
     },
     "metadata": {},
     "output_type": "display_data"
    },
    {
     "data": {
      "application/vnd.jupyter.widget-view+json": {
       "model_id": "29edd9640e704758acd91a5fca44199e",
       "version_major": 2,
       "version_minor": 0
      },
      "text/plain": [
       "Projecting waveforms:   0%|          | 0/10 [00:00<?, ?it/s]"
      ]
     },
     "metadata": {},
     "output_type": "display_data"
    },
    {
     "data": {
      "application/vnd.jupyter.widget-view+json": {
       "model_id": "bda6355c3c99447db3935464b4020a3c",
       "version_major": 2,
       "version_minor": 0
      },
      "text/plain": [
       "Compute : spike_locations + spike_amplitudes (no parallelization):   0%|          | 0/10 [00:00<?, ?it/s]"
      ]
     },
     "metadata": {},
     "output_type": "display_data"
    },
    {
     "data": {
      "application/vnd.jupyter.widget-view+json": {
       "model_id": "922620bec18b48449bae6b731629a699",
       "version_major": 2,
       "version_minor": 0
      },
      "text/plain": [
       "noise_level (no parallelization):   0%|          | 0/20 [00:00<?, ?it/s]"
      ]
     },
     "metadata": {},
     "output_type": "display_data"
    },
    {
     "data": {
      "application/vnd.jupyter.widget-view+json": {
       "model_id": "7ab2951c89ee48529967fd8dc0e3014a",
       "version_major": 2,
       "version_minor": 0
      },
      "text/plain": [
       "calculate pc_metrics:   0%|          | 0/10 [00:00<?, ?it/s]"
      ]
     },
     "metadata": {},
     "output_type": "display_data"
    },
    {
     "name": "stdout",
     "output_type": "stream",
     "text": [
      "True\n",
      "  prediction  probability\n",
      "0       good     1.000000\n",
      "1       good     0.917860\n",
      "2       good     0.980000\n",
      "3       good     1.000000\n",
      "4       good     0.907860\n",
      "5      noise     0.882973\n",
      "6      noise     0.882973\n",
      "7      noise     0.862140\n",
      "8      noise     0.862140\n",
      "9      noise     0.882973\n"
     ]
    },
    {
     "data": {
      "application/vnd.jupyter.widget-view+json": {
       "model_id": "cb55a94f1e1e49e5bc517e003a4b7d6d",
       "version_major": 2,
       "version_minor": 0
      },
      "text/plain": [
       "estimate_sparsity (no parallelization):   0%|          | 0/10 [00:00<?, ?it/s]"
      ]
     },
     "metadata": {},
     "output_type": "display_data"
    },
    {
     "data": {
      "application/vnd.jupyter.widget-view+json": {
       "model_id": "cc364654ec9e4029869bc83bbe5d0f53",
       "version_major": 2,
       "version_minor": 0
      },
      "text/plain": [
       "noise_level (no parallelization):   0%|          | 0/20 [00:00<?, ?it/s]"
      ]
     },
     "metadata": {},
     "output_type": "display_data"
    },
    {
     "data": {
      "application/vnd.jupyter.widget-view+json": {
       "model_id": "3c1dab2f7cdb4be99b7492e5fe5049ed",
       "version_major": 2,
       "version_minor": 0
      },
      "text/plain": [
       "compute_waveforms (no parallelization):   0%|          | 0/10 [00:00<?, ?it/s]"
      ]
     },
     "metadata": {},
     "output_type": "display_data"
    },
    {
     "data": {
      "application/vnd.jupyter.widget-view+json": {
       "model_id": "52e7e11e1fb34893a991c9a7992fab90",
       "version_major": 2,
       "version_minor": 0
      },
      "text/plain": [
       "Fitting PCA:   0%|          | 0/10 [00:00<?, ?it/s]"
      ]
     },
     "metadata": {},
     "output_type": "display_data"
    },
    {
     "data": {
      "application/vnd.jupyter.widget-view+json": {
       "model_id": "e8e50f8e98a5449b853c9c582a1f8210",
       "version_major": 2,
       "version_minor": 0
      },
      "text/plain": [
       "Projecting waveforms:   0%|          | 0/10 [00:00<?, ?it/s]"
      ]
     },
     "metadata": {},
     "output_type": "display_data"
    },
    {
     "data": {
      "application/vnd.jupyter.widget-view+json": {
       "model_id": "3a0a7f348ae648caa2536e233e0282bb",
       "version_major": 2,
       "version_minor": 0
      },
      "text/plain": [
       "Compute : spike_locations + spike_amplitudes (no parallelization):   0%|          | 0/10 [00:00<?, ?it/s]"
      ]
     },
     "metadata": {},
     "output_type": "display_data"
    },
    {
     "data": {
      "application/vnd.jupyter.widget-view+json": {
       "model_id": "ee70e01eee7d4be6830a1bc98231066c",
       "version_major": 2,
       "version_minor": 0
      },
      "text/plain": [
       "noise_level (no parallelization):   0%|          | 0/20 [00:00<?, ?it/s]"
      ]
     },
     "metadata": {},
     "output_type": "display_data"
    },
    {
     "data": {
      "application/vnd.jupyter.widget-view+json": {
       "model_id": "8881e4bd707d4f91bb9f455b9148f034",
       "version_major": 2,
       "version_minor": 0
      },
      "text/plain": [
       "calculate pc_metrics:   0%|          | 0/10 [00:00<?, ?it/s]"
      ]
     },
     "metadata": {},
     "output_type": "display_data"
    },
    {
     "name": "stdout",
     "output_type": "stream",
     "text": [
      "True\n",
      "  prediction  probability\n",
      "0       good     1.000000\n",
      "1       good     0.597860\n",
      "2       good     0.960000\n",
      "3       good     1.000000\n",
      "4       good     0.967860\n",
      "5      noise     0.942973\n",
      "6      noise     0.922973\n",
      "7      noise     0.852973\n",
      "8      noise     0.802973\n",
      "9      noise     0.922140\n"
     ]
    },
    {
     "data": {
      "application/vnd.jupyter.widget-view+json": {
       "model_id": "d9650b468ffa48a2a0b169c6ae148efb",
       "version_major": 2,
       "version_minor": 0
      },
      "text/plain": [
       "estimate_sparsity (no parallelization):   0%|          | 0/10 [00:00<?, ?it/s]"
      ]
     },
     "metadata": {},
     "output_type": "display_data"
    },
    {
     "data": {
      "application/vnd.jupyter.widget-view+json": {
       "model_id": "12df0d6314ec42cea81eb5fa1159a1a4",
       "version_major": 2,
       "version_minor": 0
      },
      "text/plain": [
       "noise_level (no parallelization):   0%|          | 0/20 [00:00<?, ?it/s]"
      ]
     },
     "metadata": {},
     "output_type": "display_data"
    },
    {
     "data": {
      "application/vnd.jupyter.widget-view+json": {
       "model_id": "cfc45ed6b0144bb59a3da9aea031ef9b",
       "version_major": 2,
       "version_minor": 0
      },
      "text/plain": [
       "compute_waveforms (no parallelization):   0%|          | 0/10 [00:00<?, ?it/s]"
      ]
     },
     "metadata": {},
     "output_type": "display_data"
    },
    {
     "data": {
      "application/vnd.jupyter.widget-view+json": {
       "model_id": "09f022558f724a25aa0aeaa9dc60892e",
       "version_major": 2,
       "version_minor": 0
      },
      "text/plain": [
       "Fitting PCA:   0%|          | 0/10 [00:00<?, ?it/s]"
      ]
     },
     "metadata": {},
     "output_type": "display_data"
    },
    {
     "data": {
      "application/vnd.jupyter.widget-view+json": {
       "model_id": "10218f6c950d43faa41b1ac7f1720e32",
       "version_major": 2,
       "version_minor": 0
      },
      "text/plain": [
       "Projecting waveforms:   0%|          | 0/10 [00:00<?, ?it/s]"
      ]
     },
     "metadata": {},
     "output_type": "display_data"
    },
    {
     "data": {
      "application/vnd.jupyter.widget-view+json": {
       "model_id": "9ad15b602f7e4837a96897a69c61209b",
       "version_major": 2,
       "version_minor": 0
      },
      "text/plain": [
       "Compute : spike_locations + spike_amplitudes (no parallelization):   0%|          | 0/10 [00:00<?, ?it/s]"
      ]
     },
     "metadata": {},
     "output_type": "display_data"
    },
    {
     "data": {
      "application/vnd.jupyter.widget-view+json": {
       "model_id": "c2ef29d037344f89b29d877bddb9fd26",
       "version_major": 2,
       "version_minor": 0
      },
      "text/plain": [
       "noise_level (no parallelization):   0%|          | 0/20 [00:00<?, ?it/s]"
      ]
     },
     "metadata": {},
     "output_type": "display_data"
    },
    {
     "data": {
      "application/vnd.jupyter.widget-view+json": {
       "model_id": "77bcb3f11d9f4e0d9efb999a7ce73dc5",
       "version_major": 2,
       "version_minor": 0
      },
      "text/plain": [
       "calculate pc_metrics:   0%|          | 0/10 [00:00<?, ?it/s]"
      ]
     },
     "metadata": {},
     "output_type": "display_data"
    },
    {
     "name": "stdout",
     "output_type": "stream",
     "text": [
      "True\n",
      "  prediction  probability\n",
      "0      noise     0.822140\n",
      "1       good     0.577860\n",
      "2       good     0.617860\n",
      "3       good     1.000000\n",
      "4       good     1.000000\n",
      "5      noise     0.892973\n",
      "6      noise     0.882140\n",
      "7      noise     0.872140\n",
      "8      noise     0.852140\n",
      "9      noise     0.872140\n"
     ]
    },
    {
     "data": {
      "application/vnd.jupyter.widget-view+json": {
       "model_id": "e102de4189d34c2ea329a02923d669fd",
       "version_major": 2,
       "version_minor": 0
      },
      "text/plain": [
       "estimate_sparsity (no parallelization):   0%|          | 0/10 [00:00<?, ?it/s]"
      ]
     },
     "metadata": {},
     "output_type": "display_data"
    },
    {
     "data": {
      "application/vnd.jupyter.widget-view+json": {
       "model_id": "a330cdfb38f041a58ab41d7b5ac9a753",
       "version_major": 2,
       "version_minor": 0
      },
      "text/plain": [
       "noise_level (no parallelization):   0%|          | 0/20 [00:00<?, ?it/s]"
      ]
     },
     "metadata": {},
     "output_type": "display_data"
    },
    {
     "data": {
      "application/vnd.jupyter.widget-view+json": {
       "model_id": "0c938f24e6aa476abddbab3cfc62a27c",
       "version_major": 2,
       "version_minor": 0
      },
      "text/plain": [
       "compute_waveforms (no parallelization):   0%|          | 0/10 [00:00<?, ?it/s]"
      ]
     },
     "metadata": {},
     "output_type": "display_data"
    },
    {
     "data": {
      "application/vnd.jupyter.widget-view+json": {
       "model_id": "ca649821458a4eff9a8a7d85496479ee",
       "version_major": 2,
       "version_minor": 0
      },
      "text/plain": [
       "Fitting PCA:   0%|          | 0/10 [00:00<?, ?it/s]"
      ]
     },
     "metadata": {},
     "output_type": "display_data"
    },
    {
     "data": {
      "application/vnd.jupyter.widget-view+json": {
       "model_id": "d2a26e9932f74dc5841879f6f077f827",
       "version_major": 2,
       "version_minor": 0
      },
      "text/plain": [
       "Projecting waveforms:   0%|          | 0/10 [00:00<?, ?it/s]"
      ]
     },
     "metadata": {},
     "output_type": "display_data"
    },
    {
     "data": {
      "application/vnd.jupyter.widget-view+json": {
       "model_id": "cda95f544b7147b882d41feb3279226b",
       "version_major": 2,
       "version_minor": 0
      },
      "text/plain": [
       "Compute : spike_locations + spike_amplitudes (no parallelization):   0%|          | 0/10 [00:00<?, ?it/s]"
      ]
     },
     "metadata": {},
     "output_type": "display_data"
    },
    {
     "data": {
      "application/vnd.jupyter.widget-view+json": {
       "model_id": "00793039593a43bdb4e5f66ba72882bb",
       "version_major": 2,
       "version_minor": 0
      },
      "text/plain": [
       "noise_level (no parallelization):   0%|          | 0/20 [00:00<?, ?it/s]"
      ]
     },
     "metadata": {},
     "output_type": "display_data"
    },
    {
     "data": {
      "application/vnd.jupyter.widget-view+json": {
       "model_id": "482c0eec101a49ab90a578fefeebb030",
       "version_major": 2,
       "version_minor": 0
      },
      "text/plain": [
       "calculate pc_metrics:   0%|          | 0/10 [00:00<?, ?it/s]"
      ]
     },
     "metadata": {},
     "output_type": "display_data"
    },
    {
     "name": "stdout",
     "output_type": "stream",
     "text": [
      "True\n",
      "  prediction  probability\n",
      "0       good     0.970000\n",
      "1       good     1.000000\n",
      "2       good     1.000000\n",
      "3       good     0.927860\n",
      "4       good     0.970000\n",
      "5      noise     0.932973\n",
      "6      noise     0.922140\n",
      "7      noise     0.802140\n",
      "8      noise     0.922140\n",
      "9      noise     0.922973\n"
     ]
    },
    {
     "data": {
      "application/vnd.jupyter.widget-view+json": {
       "model_id": "7e670e38d7bb47f1963305c1e052bdcf",
       "version_major": 2,
       "version_minor": 0
      },
      "text/plain": [
       "estimate_sparsity (no parallelization):   0%|          | 0/10 [00:00<?, ?it/s]"
      ]
     },
     "metadata": {},
     "output_type": "display_data"
    },
    {
     "data": {
      "application/vnd.jupyter.widget-view+json": {
       "model_id": "ae1371511e3b46fdaa6c9489c0e7fe9d",
       "version_major": 2,
       "version_minor": 0
      },
      "text/plain": [
       "noise_level (no parallelization):   0%|          | 0/20 [00:00<?, ?it/s]"
      ]
     },
     "metadata": {},
     "output_type": "display_data"
    },
    {
     "data": {
      "application/vnd.jupyter.widget-view+json": {
       "model_id": "c0abea788c2b48049bae980533636591",
       "version_major": 2,
       "version_minor": 0
      },
      "text/plain": [
       "compute_waveforms (no parallelization):   0%|          | 0/10 [00:00<?, ?it/s]"
      ]
     },
     "metadata": {},
     "output_type": "display_data"
    },
    {
     "data": {
      "application/vnd.jupyter.widget-view+json": {
       "model_id": "0c2f890620fb4757a8a2870ecc50ad19",
       "version_major": 2,
       "version_minor": 0
      },
      "text/plain": [
       "Fitting PCA:   0%|          | 0/10 [00:00<?, ?it/s]"
      ]
     },
     "metadata": {},
     "output_type": "display_data"
    },
    {
     "data": {
      "application/vnd.jupyter.widget-view+json": {
       "model_id": "98a83b1dcb1d437bac3536a997d69cbe",
       "version_major": 2,
       "version_minor": 0
      },
      "text/plain": [
       "Projecting waveforms:   0%|          | 0/10 [00:00<?, ?it/s]"
      ]
     },
     "metadata": {},
     "output_type": "display_data"
    },
    {
     "data": {
      "application/vnd.jupyter.widget-view+json": {
       "model_id": "417f25d08dac4d919ef8f8532faba315",
       "version_major": 2,
       "version_minor": 0
      },
      "text/plain": [
       "Compute : spike_locations + spike_amplitudes (no parallelization):   0%|          | 0/10 [00:00<?, ?it/s]"
      ]
     },
     "metadata": {},
     "output_type": "display_data"
    },
    {
     "data": {
      "application/vnd.jupyter.widget-view+json": {
       "model_id": "917c9233e71341da990ecd245b12d9e9",
       "version_major": 2,
       "version_minor": 0
      },
      "text/plain": [
       "noise_level (no parallelization):   0%|          | 0/20 [00:00<?, ?it/s]"
      ]
     },
     "metadata": {},
     "output_type": "display_data"
    },
    {
     "data": {
      "application/vnd.jupyter.widget-view+json": {
       "model_id": "b2e6b252594c47ff9d41a5f6afdb2fd2",
       "version_major": 2,
       "version_minor": 0
      },
      "text/plain": [
       "calculate pc_metrics:   0%|          | 0/10 [00:00<?, ?it/s]"
      ]
     },
     "metadata": {},
     "output_type": "display_data"
    },
    {
     "name": "stdout",
     "output_type": "stream",
     "text": [
      "True\n",
      "  prediction  probability\n",
      "0       good     1.000000\n",
      "1      noise     0.892973\n",
      "2       good     1.000000\n",
      "3      noise     0.852140\n",
      "4       good     1.000000\n",
      "5      noise     0.742973\n",
      "6      noise     0.952973\n",
      "7      noise     0.892973\n",
      "8      noise     0.742973\n",
      "9      noise     0.852140\n"
     ]
    },
    {
     "data": {
      "application/vnd.jupyter.widget-view+json": {
       "model_id": "ec2c06fab9004c499f9607d612696654",
       "version_major": 2,
       "version_minor": 0
      },
      "text/plain": [
       "estimate_sparsity (no parallelization):   0%|          | 0/10 [00:00<?, ?it/s]"
      ]
     },
     "metadata": {},
     "output_type": "display_data"
    },
    {
     "data": {
      "application/vnd.jupyter.widget-view+json": {
       "model_id": "ff820dcd4ff44ed8832eef82bf08a9a9",
       "version_major": 2,
       "version_minor": 0
      },
      "text/plain": [
       "noise_level (no parallelization):   0%|          | 0/20 [00:00<?, ?it/s]"
      ]
     },
     "metadata": {},
     "output_type": "display_data"
    },
    {
     "data": {
      "application/vnd.jupyter.widget-view+json": {
       "model_id": "ef821adbaae34bcead36f29179dc70c3",
       "version_major": 2,
       "version_minor": 0
      },
      "text/plain": [
       "compute_waveforms (no parallelization):   0%|          | 0/10 [00:00<?, ?it/s]"
      ]
     },
     "metadata": {},
     "output_type": "display_data"
    },
    {
     "data": {
      "application/vnd.jupyter.widget-view+json": {
       "model_id": "1559dc8c07b7446fadeeb9b26ce3d18d",
       "version_major": 2,
       "version_minor": 0
      },
      "text/plain": [
       "Fitting PCA:   0%|          | 0/10 [00:00<?, ?it/s]"
      ]
     },
     "metadata": {},
     "output_type": "display_data"
    },
    {
     "data": {
      "application/vnd.jupyter.widget-view+json": {
       "model_id": "d58266d51d0f414ea1d50ec3d6e923ed",
       "version_major": 2,
       "version_minor": 0
      },
      "text/plain": [
       "Projecting waveforms:   0%|          | 0/10 [00:00<?, ?it/s]"
      ]
     },
     "metadata": {},
     "output_type": "display_data"
    },
    {
     "data": {
      "application/vnd.jupyter.widget-view+json": {
       "model_id": "261ceb8c212040218c3d2fa91fd79849",
       "version_major": 2,
       "version_minor": 0
      },
      "text/plain": [
       "Compute : spike_locations + spike_amplitudes (no parallelization):   0%|          | 0/10 [00:00<?, ?it/s]"
      ]
     },
     "metadata": {},
     "output_type": "display_data"
    },
    {
     "data": {
      "application/vnd.jupyter.widget-view+json": {
       "model_id": "75e23a73f8514f8d93f0c9ef265dda55",
       "version_major": 2,
       "version_minor": 0
      },
      "text/plain": [
       "noise_level (no parallelization):   0%|          | 0/20 [00:00<?, ?it/s]"
      ]
     },
     "metadata": {},
     "output_type": "display_data"
    },
    {
     "data": {
      "application/vnd.jupyter.widget-view+json": {
       "model_id": "c3a14bdc57e840d0aa2e7e4f75d8cf7c",
       "version_major": 2,
       "version_minor": 0
      },
      "text/plain": [
       "calculate pc_metrics:   0%|          | 0/10 [00:00<?, ?it/s]"
      ]
     },
     "metadata": {},
     "output_type": "display_data"
    },
    {
     "name": "stdout",
     "output_type": "stream",
     "text": [
      "True\n",
      "  prediction  probability\n",
      "0       good     0.927860\n",
      "1       good     1.000000\n",
      "2       good     1.000000\n",
      "3       good     1.000000\n",
      "4      noise     0.762140\n",
      "5      noise     0.922140\n",
      "6      noise     0.922140\n",
      "7      noise     0.932973\n",
      "8      noise     0.872140\n",
      "9      noise     0.762973\n"
     ]
    },
    {
     "data": {
      "application/vnd.jupyter.widget-view+json": {
       "model_id": "c5d315676eed4791bfe66cc9a5b0f86e",
       "version_major": 2,
       "version_minor": 0
      },
      "text/plain": [
       "estimate_sparsity (no parallelization):   0%|          | 0/10 [00:00<?, ?it/s]"
      ]
     },
     "metadata": {},
     "output_type": "display_data"
    },
    {
     "data": {
      "application/vnd.jupyter.widget-view+json": {
       "model_id": "0adbae357c4f4ab7a6161dcc86700760",
       "version_major": 2,
       "version_minor": 0
      },
      "text/plain": [
       "noise_level (no parallelization):   0%|          | 0/20 [00:00<?, ?it/s]"
      ]
     },
     "metadata": {},
     "output_type": "display_data"
    },
    {
     "data": {
      "application/vnd.jupyter.widget-view+json": {
       "model_id": "6ba0a6f4bb46499c9021a479f78a7882",
       "version_major": 2,
       "version_minor": 0
      },
      "text/plain": [
       "compute_waveforms (no parallelization):   0%|          | 0/10 [00:00<?, ?it/s]"
      ]
     },
     "metadata": {},
     "output_type": "display_data"
    },
    {
     "data": {
      "application/vnd.jupyter.widget-view+json": {
       "model_id": "21375759ed3443b8b1a9c1ae0ae72325",
       "version_major": 2,
       "version_minor": 0
      },
      "text/plain": [
       "Fitting PCA:   0%|          | 0/10 [00:00<?, ?it/s]"
      ]
     },
     "metadata": {},
     "output_type": "display_data"
    },
    {
     "data": {
      "application/vnd.jupyter.widget-view+json": {
       "model_id": "1f571d195be44f119efdcdf5320f3da7",
       "version_major": 2,
       "version_minor": 0
      },
      "text/plain": [
       "Projecting waveforms:   0%|          | 0/10 [00:00<?, ?it/s]"
      ]
     },
     "metadata": {},
     "output_type": "display_data"
    },
    {
     "data": {
      "application/vnd.jupyter.widget-view+json": {
       "model_id": "461c800345e64f4eb68faa1585084697",
       "version_major": 2,
       "version_minor": 0
      },
      "text/plain": [
       "Compute : spike_locations + spike_amplitudes (no parallelization):   0%|          | 0/10 [00:00<?, ?it/s]"
      ]
     },
     "metadata": {},
     "output_type": "display_data"
    },
    {
     "data": {
      "application/vnd.jupyter.widget-view+json": {
       "model_id": "8cb867e9003e4af5b1a153b6f9d0cc56",
       "version_major": 2,
       "version_minor": 0
      },
      "text/plain": [
       "noise_level (no parallelization):   0%|          | 0/20 [00:00<?, ?it/s]"
      ]
     },
     "metadata": {},
     "output_type": "display_data"
    },
    {
     "data": {
      "application/vnd.jupyter.widget-view+json": {
       "model_id": "e7ec86d98b2246e0bc48f37d8be42f86",
       "version_major": 2,
       "version_minor": 0
      },
      "text/plain": [
       "calculate pc_metrics:   0%|          | 0/10 [00:00<?, ?it/s]"
      ]
     },
     "metadata": {},
     "output_type": "display_data"
    },
    {
     "name": "stdout",
     "output_type": "stream",
     "text": [
      "True\n",
      "  prediction  probability\n",
      "0      noise     0.872973\n",
      "1       good     1.000000\n",
      "2       good     0.970000\n",
      "3       good     0.897860\n",
      "4       good     0.980000\n",
      "5      noise     0.882140\n",
      "6      noise     0.892973\n",
      "7      noise     0.882140\n",
      "8      noise     0.882140\n",
      "9      noise     0.862973\n"
     ]
    }
   ],
   "source": [
    "const = 1\n",
    "\n",
    "\"\"\"\n",
    "model, model_info = sc.load_model(\n",
    "    repo_id = \"SpikeInterface/UnitRefine_noise_neural_classifier\",\n",
    "    trusted = ['numpy.dtype']\n",
    ")\n",
    "\"\"\"\n",
    "\n",
    "\n",
    "#for stream_id in tqdm(stream_ids):\n",
    "for i in range(10):\n",
    "    \"\"\"\n",
    "    h5 = h5py.File(path)\n",
    "    rec_name = list(h5['wells'][stream_id].keys())[0]\n",
    "    rec = si.MaxwellRecordingExtractor(path, stream_id=stream_id, rec_name=rec_name)\n",
    "\n",
    "    path_to_sorting = Path(save_root) / stream_id / 'sorter_output'\n",
    "    sorting = si.read_kilosort(folder_path=path_to_sorting)\n",
    "    \"\"\"\n",
    "\n",
    "    rec, sorting_1 = si.generate_ground_truth_recording(num_channels=4, seed=const, num_units=5)\n",
    "    _, sorting_2 =si.generate_ground_truth_recording(num_channels=4, seed=const+1, num_units=5)\n",
    "    const += 2\n",
    "\n",
    "    sorting = si.aggregate_units([sorting_1, sorting_2])\n",
    "\n",
    "    analyzer = si.create_sorting_analyzer(sorting=sorting, recording=rec)\n",
    "    analyzer.compute(['noise_levels','random_spikes','waveforms','templates','spike_locations','spike_amplitudes','correlograms','principal_components', 'quality_metrics', 'template_metrics'])\n",
    "\n",
    "    all_metric_names = list(analyzer.get_extension('quality_metrics').get_data().keys()) + list(analyzer.get_extension('template_metrics').get_data().keys())\n",
    "    print(set(model.feature_names_in_).issubset(set(all_metric_names)))\n",
    "\n",
    "    labels_and_probababilities = si.auto_label_units(\n",
    "        sorting_analyzer=analyzer,\n",
    "        model_folder=model_folder,\n",
    "        #repo_id=\"SpikeInterface/UnitRefine_noise_neural_classifier\",\n",
    "        trust_model=True\n",
    "    )\n",
    "\n",
    "    print(labels_and_probababilities)\n",
    "\n",
    "    #labels_and_probababilities = pd.DataFrame(labels_and_probababilities)\n",
    "    #labels_and_probababilities.to_csv(path_to_sorting / 'labels_and_probabilities.csv')"
   ]
  }
 ],
 "metadata": {
  "kernelspec": {
   "display_name": "dpqc",
   "language": "python",
   "name": "python3"
  },
  "language_info": {
   "codemirror_mode": {
    "name": "ipython",
    "version": 3
   },
   "file_extension": ".py",
   "mimetype": "text/x-python",
   "name": "python",
   "nbconvert_exporter": "python",
   "pygments_lexer": "ipython3",
   "version": "3.9.23"
  }
 },
 "nbformat": 4,
 "nbformat_minor": 5
}
