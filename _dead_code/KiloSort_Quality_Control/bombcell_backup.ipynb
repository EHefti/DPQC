{
 "cells": [
  {
   "cell_type": "markdown",
   "id": "dbef61da",
   "metadata": {},
   "source": [
    "### 3.1 Bombcell"
   ]
  },
  {
   "cell_type": "code",
   "execution_count": null,
   "id": "42012866",
   "metadata": {
    "vscode": {
     "languageId": "plaintext"
    }
   },
   "outputs": [],
   "source": [
    "# Replace with your kilosort directory\n",
    "well_id = 'well010'\n",
    "ks_dir = 'D:/Master Thesis/Data/EI_iNeurons/241218/T002523/Network/well000/sorter_output/' #Path(save_root) / well_id / 'sorter_output'\n",
    "\n",
    "# Set bombcell's output directory\n",
    "save_path = Path(ks_dir) / \"bc_output_test\"\n",
    "if not save_path.exists():\n",
    "    save_path.mkdir(parents=True, exist_ok=True)\n",
    "\n",
    "print(f\"Using kilosort directory: {ks_dir}\")\n",
    "\n",
    "param = bc.get_default_parameters(ks_dir, kilosort_version=2)\n",
    "\n",
    "# Modify some parameters\n",
    "param['ephys_sample_rate'] = 10000  # Sample rate in Hz\n",
    "\n",
    "h5 = h5py.File(rec_path)\n",
    "rec_name = list(h5['wells'][well_id].keys())[0]\n",
    "rec = si.MaxwellRecordingExtractor(rec_path, stream_id=well_id, rec_name=rec_name)\n",
    "\n",
    "param['nChannels'] = rec.get_num_channels()\n",
    "param['raw_data_file'] = Path(ks_dir) / \"recording.dat\"\n",
    "param['ephysKilosortPath']\n",
    "\n",
    "pprint(param)\n",
    "\n",
    "(quality_metrics, param, unit_type, unit_type_string) = bc.run_bombcell(ks_dir, save_path, param)"
   ]
  },
  {
   "cell_type": "code",
   "execution_count": null,
   "id": "ba97a13a",
   "metadata": {
    "vscode": {
     "languageId": "plaintext"
    }
   },
   "outputs": [],
   "source": [
    "quality_metrics_table = pd.DataFrame(quality_metrics)\n",
    "quality_metrics_table.insert(0, 'Bombcell_unit_type', unit_type_string)\n",
    "quality_metrics_table"
   ]
  },
  {
   "cell_type": "code",
   "execution_count": null,
   "id": "5bafc372",
   "metadata": {
    "vscode": {
     "languageId": "plaintext"
    }
   },
   "outputs": [],
   "source": [
    "gui = bc.unit_quality_gui(\n",
    "    ks_dir=ks_dir,\n",
    "    quality_metrics=quality_metrics,\n",
    "    unit_types=unit_type,\n",
    "    param=param,\n",
    "    save_path=save_path,\n",
    ")"
   ]
  },
  {
   "cell_type": "markdown",
   "id": "bd9721cc",
   "metadata": {},
   "source": [
    "#### Bombcell Philipp"
   ]
  },
  {
   "cell_type": "code",
   "execution_count": null,
   "id": "06bfa25b",
   "metadata": {
    "vscode": {
     "languageId": "plaintext"
    }
   },
   "outputs": [],
   "source": [
    "from mxw_bombcell.generate_sorting_path_list import generate_sorting_path_list\n",
    "from mxw_bombcell.infer_sampling_rate import infer_sampling_rate\n",
    "from mxw_bombcell.bombcell_to_phy import bombcell_to_phy\n",
    "\n",
    "\n",
    "# Suppress all warnings\n",
    "warnings.filterwarnings('ignore')\n",
    "\n",
    "qc_root_path = 'D:/Master Thesis/Data/EI_iNeurons'\n",
    "path_logic = ['24*', 'T002523', 'Network', 'well*', 'sorter_output']\n",
    "\n",
    "sorting_path_list = generate_sorting_path_list(qc_root_path, path_logic)\n",
    "print(f\"Found {len(sorting_path_list)} sortings\")\n",
    "\n",
    "# PARAMS\n",
    "rerun = 1  # 1 to re-run, 0 to skip if metrics are present\n",
    "gain_to_uV = 6.2\n",
    "verbose = 0\n",
    "\n",
    "for i, sorting_path in enumerate(sorting_path_list):\n",
    "    ephysKilosortPath = sorting_path\n",
    "    sampling_rate = infer_sampling_rate(ephysKilosortPath)\n",
    "    \n",
    "    kilosortVersion = 2 # Change if using Kilosort4\n",
    "    savePath = os.path.join(ephysKilosortPath, \"bc_output\")\n",
    "\n",
    "    param = bc.get_default_parameters(kilosort_path=ephysKilosortPath, kilosort_version=kilosortVersion, gain_to_uV=gain_to_uV)\n",
    "\n",
    "    param['extractRaw'] = 0\n",
    "    param['ephys_sample_rate'] = sampling_rate\n",
    "\n",
    "    param['nSyncChannels'] = 0\n",
    "    param['removeDuplicateSpikes'] = 0\n",
    "    param['minWvDuration'] = 200\n",
    "    param['maxWvDuration'] = 1500\n",
    "    param['tauR_valuesMin'] = 0.001\n",
    "    param['tauR_valuesMax'] = 0.003\n",
    "    param['maxRPVviolations'] = 0.05\n",
    "    param['verbose'] = verbose\n",
    "    param['computeDistanceMetrics'] = 1\n",
    "\n",
    "    qMetricsExist = (len(glob(os.path.join(savePath, 'qMetric*.mat'))) > 0) or \\\n",
    "                    (os.path.exists(os.path.join(savePath, 'templates._bc_qMetrics.parquet')))\n",
    "\n",
    "    if not qMetricsExist or rerun:\n",
    "        spikeTimes_samples, spikeTemplates, templateWaveforms, templateAmplitudes, pcFeatures, \\\n",
    "        pcFeatureIdx, channelPositions = bc.load_ephys_data(ephysKilosortPath)\n",
    "        \n",
    "        if len(spikeTimes_samples) > 0 and param['ephys_sample_rate'] > 0:\n",
    "            param['minNumSpikes'] = round(np.max(spikeTimes_samples) / param['ephys_sample_rate'] / 20)\n",
    "        else:\n",
    "            param['minNumSpikes'] = 0\n",
    "\n",
    "        param['nChannels'] = channelPositions.shape[0] if channelPositions is not None else 0\n",
    "\n",
    "\n",
    "\n",
    "\n",
    "\n",
    "        (\n",
    "            qMetrics,\n",
    "            param,\n",
    "            unitType,\n",
    "            unitTypeString,\n",
    "        ) = bc.run_bombcell(\n",
    "            ephysKilosortPath, savePath, param\n",
    "        )\n",
    "\n",
    "\n",
    "        \"\"\"\n",
    "        qMetric, runtimes = bc.get_all_quality_metrics(param=param, \n",
    "                                                       unique_templates=None,\n",
    "                                                       spike_times_seconds=spikeTimes_samples, \n",
    "                                                       spike_clusters=spikeTemplates, \n",
    "                                                       template_waveforms=templateWaveforms, \n",
    "                                                       template_amplitudes=templateAmplitudes,\n",
    "                                                       time_chunks=None,\n",
    "                                                       pc_features=pcFeatures, \n",
    "                                                       pc_features_idx=pcFeatureIdx,\n",
    "                                                       channel_positions=channelPositions, \n",
    "                                                       save_path=savePath)\n",
    "        \n",
    "        unitType, unitTypeString = bc.get_quality_unit_type(param, qMetric)\n",
    "        \"\"\"\n",
    "\n",
    "\n",
    "bc_path_list = [os.path.join(sp, \"bc_output\") for sp in sorting_path_list]\n",
    "\n",
    "overwrite = True\n",
    "bombcell_to_phy(bc_path_list[:3], overwrite)"
   ]
  }
 ],
 "metadata": {
  "language_info": {
   "name": "python"
  }
 },
 "nbformat": 4,
 "nbformat_minor": 5
}
